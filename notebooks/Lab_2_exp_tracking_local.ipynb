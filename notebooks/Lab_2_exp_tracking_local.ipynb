{
 "cells": [
  {
   "attachments": {},
   "cell_type": "markdown",
   "metadata": {},
   "source": [
    "# Experiment Tracking with MLFlow (Local)\n",
    "\n",
    "In this demo we will see how to use MLFlow for tracking experiments, using a toy data set. In the attached lab (below), you will download a larger dataset and attempt to train the best model that you can.\n",
    "\n",
    "We should first install mlflow, and add it to the requirements.txt file if not done already.\n",
    "\n",
    "`pip install mlflow` or `python3 -m pip install mlflow`.\n",
    "\n",
    "You may also need to `pip install setuptools`.\n",
    "\n",
    "From here, make sure to save this notebook in a specific folder, and ensure you run all command line commands from the same folder."
   ]
  },
  {
   "cell_type": "code",
   "execution_count": 1,
   "metadata": {},
   "outputs": [],
   "source": [
    "import mlflow\n",
    "import pandas as pd\n",
    "from sklearn.tree import DecisionTreeClassifier\n",
    "from sklearn.datasets import load_wine\n",
    "from sklearn.metrics import accuracy_score"
   ]
  },
  {
   "cell_type": "code",
   "execution_count": 2,
   "metadata": {},
   "outputs": [
    {
     "name": "stdout",
     "output_type": "stream",
     "text": [
      "Current tracking URI: file:///Users/danielmendoza/Documents/Spring_Mod_2/MLOps/mlops_labs/notebooks/mlruns\n"
     ]
    }
   ],
   "source": [
    "# Add this to your notebook\n",
    "import mlflow\n",
    "print(\"Current tracking URI:\", mlflow.get_tracking_uri())\n",
    "\n",
    "# If needed, reset it explicitly\n",
    "# mlflow.set_tracking_uri(\"sqlite:///mlflow.db\")\n",
    "\n",
    "# For this lab 4\n",
    "mlflow.set_tracking_uri('https://mlflow-server1-759416646959.us-west2.run.app')"
   ]
  },
  {
   "attachments": {},
   "cell_type": "markdown",
   "metadata": {},
   "source": [
    "After loading the libraries, we can first check the mlflow version you have. And, just for fun, let's look at the mlflow UI by running `mlflow ui`. After this, we should do two things:\n",
    "- set the tracking uri\n",
    "- create or set the experiment\n",
    "\n",
    "Setting the tracking uri tells mlflow where to save the results of our experiments. We will first save these locally in a sqlite instance. In a future lab we will set up mlflow to run in GCP.\n",
    "\n",
    "If you've already created an experiment previously that you'd like to use, you can tell mlflow by setting the experiment. You can also use `set_experiment` even if the experiment has not yet been created - mlflow will first check if the experiment exists, and if not, it will create it for you. "
   ]
  },
  {
   "cell_type": "code",
   "execution_count": 3,
   "metadata": {},
   "outputs": [
    {
     "data": {
      "text/plain": [
       "'2.15.1'"
      ]
     },
     "execution_count": 3,
     "metadata": {},
     "output_type": "execute_result"
    }
   ],
   "source": [
    "mlflow.__version__"
   ]
  },
  {
   "attachments": {},
   "cell_type": "markdown",
   "metadata": {},
   "source": [
    "Running the below code will create a sqlite database and an mlruns folder in the current directory."
   ]
  },
  {
   "cell_type": "code",
   "execution_count": 4,
   "metadata": {},
   "outputs": [
    {
     "data": {
      "text/plain": [
       "<Experiment: artifact_location='mlflow-artifacts:/1', creation_time=1744950674384, experiment_id='1', last_update_time=1744950674384, lifecycle_stage='active', name='demo-experiment', tags={}>"
      ]
     },
     "execution_count": 4,
     "metadata": {},
     "output_type": "execute_result"
    }
   ],
   "source": [
    "# mlflow.set_tracking_uri('sqlite:///mlflow.db')\n",
    "mlflow.set_experiment('demo-experiment')"
   ]
  },
  {
   "cell_type": "code",
   "execution_count": 5,
   "metadata": {},
   "outputs": [],
   "source": [
    "# ."
   ]
  },
  {
   "cell_type": "code",
   "execution_count": 6,
   "metadata": {},
   "outputs": [
    {
     "name": "stdout",
     "output_type": "stream",
     "text": [
      "Current tracking URI: https://mlflow-server1-759416646959.us-west2.run.app\n"
     ]
    }
   ],
   "source": [
    "import mlflow\n",
    "print(\"Current tracking URI:\", mlflow.get_tracking_uri())\n",
    "\n",
    "# If needed, set it explicitly\n",
    "# mlflow.set_tracking_uri(\"sqlite:///mlflow.db\")  # Adjust the path as needed"
   ]
  },
  {
   "cell_type": "code",
   "execution_count": 7,
   "metadata": {},
   "outputs": [
    {
     "name": "stderr",
     "output_type": "stream",
     "text": [
      "2025/04/17 21:32:48 INFO mlflow.tracking._tracking_service.client: 🏃 View run sincere-foal-898 at: https://mlflow-server1-759416646959.us-west2.run.app/#/experiments/1/runs/1899a4db77474049936f0eb5578596af.\n",
      "2025/04/17 21:32:48 INFO mlflow.tracking._tracking_service.client: 🧪 View experiment at: https://mlflow-server1-759416646959.us-west2.run.app/#/experiments/1.\n"
     ]
    },
    {
     "name": "stdout",
     "output_type": "stream",
     "text": [
      "Active run ID: 1899a4db77474049936f0eb5578596af\n"
     ]
    }
   ],
   "source": [
    "import mlflow\n",
    "\n",
    "# Start a new run in the default experiment\n",
    "with mlflow.start_run():\n",
    "    # Log some basic parameters and metrics\n",
    "    mlflow.log_param(\"param1\", \"test\")\n",
    "    mlflow.log_metric(\"metric1\", 0.95)\n",
    "    \n",
    "    # Print the active run ID to confirm it's working\n",
    "    print(\"Active run ID:\", mlflow.active_run().info.run_id)"
   ]
  },
  {
   "cell_type": "code",
   "execution_count": 8,
   "metadata": {},
   "outputs": [
    {
     "name": "stdout",
     "output_type": "stream",
     "text": [
      "Found 1 runs in the default experiment\n",
      "                             run_id experiment_id  status  \\\n",
      "0  2237e02f372e4d3ca0cf3772dbbbab9d             0  FAILED   \n",
      "\n",
      "                                        artifact_uri  \\\n",
      "0  gs://mlflow-artifacts-dm/mlruns/0/2237e02f372e...   \n",
      "\n",
      "                        start_time                         end_time  \\\n",
      "0 2025-04-18 04:25:37.513000+00:00 2025-04-18 04:25:40.451000+00:00   \n",
      "\n",
      "   metrics.rmse params.n_estimators tags.mlflow.user tags.mlflow.runName  \\\n",
      "0     57.921405                 100    danielmendoza     secretive-fly-2   \n",
      "\n",
      "  tags.mlflow.source.type             tags.mlflow.source.git.commit  \\\n",
      "0                   LOCAL  0c6b3e7970bc370a2f77e217a7173497c71862a8   \n",
      "\n",
      "  tags.mlflow.source.name  \n",
      "0                train.py  \n"
     ]
    }
   ],
   "source": [
    "import mlflow\n",
    "\n",
    "# List all runs in the default experiment\n",
    "experiment_id = \"0\"  # Default experiment has ID 0\n",
    "runs = mlflow.search_runs(experiment_ids=[experiment_id])\n",
    "print(f\"Found {len(runs)} runs in the default experiment\")\n",
    "print(runs)"
   ]
  },
  {
   "cell_type": "code",
   "execution_count": 9,
   "metadata": {},
   "outputs": [
    {
     "name": "stdout",
     "output_type": "stream",
     "text": [
      "mlflow.db exists: True\n",
      "Current working directory: /Users/danielmendoza/Documents/Spring_Mod_2/MLOps/mlops_labs/notebooks\n"
     ]
    }
   ],
   "source": [
    "import os\n",
    "print(\"mlflow.db exists:\", os.path.exists(\"mlflow.db\"))\n",
    "print(\"Current working directory:\", os.getcwd())"
   ]
  },
  {
   "cell_type": "code",
   "execution_count": null,
   "metadata": {},
   "outputs": [],
   "source": []
  },
  {
   "cell_type": "code",
   "execution_count": null,
   "metadata": {},
   "outputs": [],
   "source": []
  },
  {
   "cell_type": "code",
   "execution_count": null,
   "metadata": {},
   "outputs": [],
   "source": []
  },
  {
   "attachments": {},
   "cell_type": "markdown",
   "metadata": {},
   "source": [
    "From here, we can load the wine data from sklearn and take a look at it. Then let's play around with some models, without using mlflow for now, to get a sense of why mlflow might come in handy."
   ]
  },
  {
   "cell_type": "code",
   "execution_count": 10,
   "metadata": {},
   "outputs": [
    {
     "data": {
      "text/html": [
       "<div>\n",
       "<style scoped>\n",
       "    .dataframe tbody tr th:only-of-type {\n",
       "        vertical-align: middle;\n",
       "    }\n",
       "\n",
       "    .dataframe tbody tr th {\n",
       "        vertical-align: top;\n",
       "    }\n",
       "\n",
       "    .dataframe thead th {\n",
       "        text-align: right;\n",
       "    }\n",
       "</style>\n",
       "<table border=\"1\" class=\"dataframe\">\n",
       "  <thead>\n",
       "    <tr style=\"text-align: right;\">\n",
       "      <th></th>\n",
       "      <th>alcohol</th>\n",
       "      <th>malic_acid</th>\n",
       "      <th>ash</th>\n",
       "      <th>alcalinity_of_ash</th>\n",
       "      <th>magnesium</th>\n",
       "      <th>total_phenols</th>\n",
       "      <th>flavanoids</th>\n",
       "      <th>nonflavanoid_phenols</th>\n",
       "      <th>proanthocyanins</th>\n",
       "      <th>color_intensity</th>\n",
       "      <th>hue</th>\n",
       "      <th>od280/od315_of_diluted_wines</th>\n",
       "      <th>proline</th>\n",
       "    </tr>\n",
       "  </thead>\n",
       "  <tbody>\n",
       "    <tr>\n",
       "      <th>0</th>\n",
       "      <td>14.23</td>\n",
       "      <td>1.71</td>\n",
       "      <td>2.43</td>\n",
       "      <td>15.6</td>\n",
       "      <td>127.0</td>\n",
       "      <td>2.80</td>\n",
       "      <td>3.06</td>\n",
       "      <td>0.28</td>\n",
       "      <td>2.29</td>\n",
       "      <td>5.64</td>\n",
       "      <td>1.04</td>\n",
       "      <td>3.92</td>\n",
       "      <td>1065.0</td>\n",
       "    </tr>\n",
       "    <tr>\n",
       "      <th>1</th>\n",
       "      <td>13.20</td>\n",
       "      <td>1.78</td>\n",
       "      <td>2.14</td>\n",
       "      <td>11.2</td>\n",
       "      <td>100.0</td>\n",
       "      <td>2.65</td>\n",
       "      <td>2.76</td>\n",
       "      <td>0.26</td>\n",
       "      <td>1.28</td>\n",
       "      <td>4.38</td>\n",
       "      <td>1.05</td>\n",
       "      <td>3.40</td>\n",
       "      <td>1050.0</td>\n",
       "    </tr>\n",
       "    <tr>\n",
       "      <th>2</th>\n",
       "      <td>13.16</td>\n",
       "      <td>2.36</td>\n",
       "      <td>2.67</td>\n",
       "      <td>18.6</td>\n",
       "      <td>101.0</td>\n",
       "      <td>2.80</td>\n",
       "      <td>3.24</td>\n",
       "      <td>0.30</td>\n",
       "      <td>2.81</td>\n",
       "      <td>5.68</td>\n",
       "      <td>1.03</td>\n",
       "      <td>3.17</td>\n",
       "      <td>1185.0</td>\n",
       "    </tr>\n",
       "  </tbody>\n",
       "</table>\n",
       "</div>"
      ],
      "text/plain": [
       "   alcohol  malic_acid   ash  alcalinity_of_ash  magnesium  total_phenols  \\\n",
       "0    14.23        1.71  2.43               15.6      127.0           2.80   \n",
       "1    13.20        1.78  2.14               11.2      100.0           2.65   \n",
       "2    13.16        2.36  2.67               18.6      101.0           2.80   \n",
       "\n",
       "   flavanoids  nonflavanoid_phenols  proanthocyanins  color_intensity   hue  \\\n",
       "0        3.06                  0.28             2.29             5.64  1.04   \n",
       "1        2.76                  0.26             1.28             4.38  1.05   \n",
       "2        3.24                  0.30             2.81             5.68  1.03   \n",
       "\n",
       "   od280/od315_of_diluted_wines  proline  \n",
       "0                          3.92   1065.0  \n",
       "1                          3.40   1050.0  \n",
       "2                          3.17   1185.0  "
      ]
     },
     "execution_count": 10,
     "metadata": {},
     "output_type": "execute_result"
    }
   ],
   "source": [
    "wine = load_wine()\n",
    "df_wine = pd.DataFrame(data=wine.\n",
    "data, columns=wine.feature_names)\n",
    "df_wine.head(3)"
   ]
  },
  {
   "cell_type": "code",
   "execution_count": 11,
   "metadata": {},
   "outputs": [
    {
     "data": {
      "text/html": [
       "<style>#sk-container-id-1 {\n",
       "  /* Definition of color scheme common for light and dark mode */\n",
       "  --sklearn-color-text: black;\n",
       "  --sklearn-color-line: gray;\n",
       "  /* Definition of color scheme for unfitted estimators */\n",
       "  --sklearn-color-unfitted-level-0: #fff5e6;\n",
       "  --sklearn-color-unfitted-level-1: #f6e4d2;\n",
       "  --sklearn-color-unfitted-level-2: #ffe0b3;\n",
       "  --sklearn-color-unfitted-level-3: chocolate;\n",
       "  /* Definition of color scheme for fitted estimators */\n",
       "  --sklearn-color-fitted-level-0: #f0f8ff;\n",
       "  --sklearn-color-fitted-level-1: #d4ebff;\n",
       "  --sklearn-color-fitted-level-2: #b3dbfd;\n",
       "  --sklearn-color-fitted-level-3: cornflowerblue;\n",
       "\n",
       "  /* Specific color for light theme */\n",
       "  --sklearn-color-text-on-default-background: var(--sg-text-color, var(--theme-code-foreground, var(--jp-content-font-color1, black)));\n",
       "  --sklearn-color-background: var(--sg-background-color, var(--theme-background, var(--jp-layout-color0, white)));\n",
       "  --sklearn-color-border-box: var(--sg-text-color, var(--theme-code-foreground, var(--jp-content-font-color1, black)));\n",
       "  --sklearn-color-icon: #696969;\n",
       "\n",
       "  @media (prefers-color-scheme: dark) {\n",
       "    /* Redefinition of color scheme for dark theme */\n",
       "    --sklearn-color-text-on-default-background: var(--sg-text-color, var(--theme-code-foreground, var(--jp-content-font-color1, white)));\n",
       "    --sklearn-color-background: var(--sg-background-color, var(--theme-background, var(--jp-layout-color0, #111)));\n",
       "    --sklearn-color-border-box: var(--sg-text-color, var(--theme-code-foreground, var(--jp-content-font-color1, white)));\n",
       "    --sklearn-color-icon: #878787;\n",
       "  }\n",
       "}\n",
       "\n",
       "#sk-container-id-1 {\n",
       "  color: var(--sklearn-color-text);\n",
       "}\n",
       "\n",
       "#sk-container-id-1 pre {\n",
       "  padding: 0;\n",
       "}\n",
       "\n",
       "#sk-container-id-1 input.sk-hidden--visually {\n",
       "  border: 0;\n",
       "  clip: rect(1px 1px 1px 1px);\n",
       "  clip: rect(1px, 1px, 1px, 1px);\n",
       "  height: 1px;\n",
       "  margin: -1px;\n",
       "  overflow: hidden;\n",
       "  padding: 0;\n",
       "  position: absolute;\n",
       "  width: 1px;\n",
       "}\n",
       "\n",
       "#sk-container-id-1 div.sk-dashed-wrapped {\n",
       "  border: 1px dashed var(--sklearn-color-line);\n",
       "  margin: 0 0.4em 0.5em 0.4em;\n",
       "  box-sizing: border-box;\n",
       "  padding-bottom: 0.4em;\n",
       "  background-color: var(--sklearn-color-background);\n",
       "}\n",
       "\n",
       "#sk-container-id-1 div.sk-container {\n",
       "  /* jupyter's `normalize.less` sets `[hidden] { display: none; }`\n",
       "     but bootstrap.min.css set `[hidden] { display: none !important; }`\n",
       "     so we also need the `!important` here to be able to override the\n",
       "     default hidden behavior on the sphinx rendered scikit-learn.org.\n",
       "     See: https://github.com/scikit-learn/scikit-learn/issues/21755 */\n",
       "  display: inline-block !important;\n",
       "  position: relative;\n",
       "}\n",
       "\n",
       "#sk-container-id-1 div.sk-text-repr-fallback {\n",
       "  display: none;\n",
       "}\n",
       "\n",
       "div.sk-parallel-item,\n",
       "div.sk-serial,\n",
       "div.sk-item {\n",
       "  /* draw centered vertical line to link estimators */\n",
       "  background-image: linear-gradient(var(--sklearn-color-text-on-default-background), var(--sklearn-color-text-on-default-background));\n",
       "  background-size: 2px 100%;\n",
       "  background-repeat: no-repeat;\n",
       "  background-position: center center;\n",
       "}\n",
       "\n",
       "/* Parallel-specific style estimator block */\n",
       "\n",
       "#sk-container-id-1 div.sk-parallel-item::after {\n",
       "  content: \"\";\n",
       "  width: 100%;\n",
       "  border-bottom: 2px solid var(--sklearn-color-text-on-default-background);\n",
       "  flex-grow: 1;\n",
       "}\n",
       "\n",
       "#sk-container-id-1 div.sk-parallel {\n",
       "  display: flex;\n",
       "  align-items: stretch;\n",
       "  justify-content: center;\n",
       "  background-color: var(--sklearn-color-background);\n",
       "  position: relative;\n",
       "}\n",
       "\n",
       "#sk-container-id-1 div.sk-parallel-item {\n",
       "  display: flex;\n",
       "  flex-direction: column;\n",
       "}\n",
       "\n",
       "#sk-container-id-1 div.sk-parallel-item:first-child::after {\n",
       "  align-self: flex-end;\n",
       "  width: 50%;\n",
       "}\n",
       "\n",
       "#sk-container-id-1 div.sk-parallel-item:last-child::after {\n",
       "  align-self: flex-start;\n",
       "  width: 50%;\n",
       "}\n",
       "\n",
       "#sk-container-id-1 div.sk-parallel-item:only-child::after {\n",
       "  width: 0;\n",
       "}\n",
       "\n",
       "/* Serial-specific style estimator block */\n",
       "\n",
       "#sk-container-id-1 div.sk-serial {\n",
       "  display: flex;\n",
       "  flex-direction: column;\n",
       "  align-items: center;\n",
       "  background-color: var(--sklearn-color-background);\n",
       "  padding-right: 1em;\n",
       "  padding-left: 1em;\n",
       "}\n",
       "\n",
       "\n",
       "/* Toggleable style: style used for estimator/Pipeline/ColumnTransformer box that is\n",
       "clickable and can be expanded/collapsed.\n",
       "- Pipeline and ColumnTransformer use this feature and define the default style\n",
       "- Estimators will overwrite some part of the style using the `sk-estimator` class\n",
       "*/\n",
       "\n",
       "/* Pipeline and ColumnTransformer style (default) */\n",
       "\n",
       "#sk-container-id-1 div.sk-toggleable {\n",
       "  /* Default theme specific background. It is overwritten whether we have a\n",
       "  specific estimator or a Pipeline/ColumnTransformer */\n",
       "  background-color: var(--sklearn-color-background);\n",
       "}\n",
       "\n",
       "/* Toggleable label */\n",
       "#sk-container-id-1 label.sk-toggleable__label {\n",
       "  cursor: pointer;\n",
       "  display: block;\n",
       "  width: 100%;\n",
       "  margin-bottom: 0;\n",
       "  padding: 0.5em;\n",
       "  box-sizing: border-box;\n",
       "  text-align: center;\n",
       "}\n",
       "\n",
       "#sk-container-id-1 label.sk-toggleable__label-arrow:before {\n",
       "  /* Arrow on the left of the label */\n",
       "  content: \"▸\";\n",
       "  float: left;\n",
       "  margin-right: 0.25em;\n",
       "  color: var(--sklearn-color-icon);\n",
       "}\n",
       "\n",
       "#sk-container-id-1 label.sk-toggleable__label-arrow:hover:before {\n",
       "  color: var(--sklearn-color-text);\n",
       "}\n",
       "\n",
       "/* Toggleable content - dropdown */\n",
       "\n",
       "#sk-container-id-1 div.sk-toggleable__content {\n",
       "  max-height: 0;\n",
       "  max-width: 0;\n",
       "  overflow: hidden;\n",
       "  text-align: left;\n",
       "  /* unfitted */\n",
       "  background-color: var(--sklearn-color-unfitted-level-0);\n",
       "}\n",
       "\n",
       "#sk-container-id-1 div.sk-toggleable__content.fitted {\n",
       "  /* fitted */\n",
       "  background-color: var(--sklearn-color-fitted-level-0);\n",
       "}\n",
       "\n",
       "#sk-container-id-1 div.sk-toggleable__content pre {\n",
       "  margin: 0.2em;\n",
       "  border-radius: 0.25em;\n",
       "  color: var(--sklearn-color-text);\n",
       "  /* unfitted */\n",
       "  background-color: var(--sklearn-color-unfitted-level-0);\n",
       "}\n",
       "\n",
       "#sk-container-id-1 div.sk-toggleable__content.fitted pre {\n",
       "  /* unfitted */\n",
       "  background-color: var(--sklearn-color-fitted-level-0);\n",
       "}\n",
       "\n",
       "#sk-container-id-1 input.sk-toggleable__control:checked~div.sk-toggleable__content {\n",
       "  /* Expand drop-down */\n",
       "  max-height: 200px;\n",
       "  max-width: 100%;\n",
       "  overflow: auto;\n",
       "}\n",
       "\n",
       "#sk-container-id-1 input.sk-toggleable__control:checked~label.sk-toggleable__label-arrow:before {\n",
       "  content: \"▾\";\n",
       "}\n",
       "\n",
       "/* Pipeline/ColumnTransformer-specific style */\n",
       "\n",
       "#sk-container-id-1 div.sk-label input.sk-toggleable__control:checked~label.sk-toggleable__label {\n",
       "  color: var(--sklearn-color-text);\n",
       "  background-color: var(--sklearn-color-unfitted-level-2);\n",
       "}\n",
       "\n",
       "#sk-container-id-1 div.sk-label.fitted input.sk-toggleable__control:checked~label.sk-toggleable__label {\n",
       "  background-color: var(--sklearn-color-fitted-level-2);\n",
       "}\n",
       "\n",
       "/* Estimator-specific style */\n",
       "\n",
       "/* Colorize estimator box */\n",
       "#sk-container-id-1 div.sk-estimator input.sk-toggleable__control:checked~label.sk-toggleable__label {\n",
       "  /* unfitted */\n",
       "  background-color: var(--sklearn-color-unfitted-level-2);\n",
       "}\n",
       "\n",
       "#sk-container-id-1 div.sk-estimator.fitted input.sk-toggleable__control:checked~label.sk-toggleable__label {\n",
       "  /* fitted */\n",
       "  background-color: var(--sklearn-color-fitted-level-2);\n",
       "}\n",
       "\n",
       "#sk-container-id-1 div.sk-label label.sk-toggleable__label,\n",
       "#sk-container-id-1 div.sk-label label {\n",
       "  /* The background is the default theme color */\n",
       "  color: var(--sklearn-color-text-on-default-background);\n",
       "}\n",
       "\n",
       "/* On hover, darken the color of the background */\n",
       "#sk-container-id-1 div.sk-label:hover label.sk-toggleable__label {\n",
       "  color: var(--sklearn-color-text);\n",
       "  background-color: var(--sklearn-color-unfitted-level-2);\n",
       "}\n",
       "\n",
       "/* Label box, darken color on hover, fitted */\n",
       "#sk-container-id-1 div.sk-label.fitted:hover label.sk-toggleable__label.fitted {\n",
       "  color: var(--sklearn-color-text);\n",
       "  background-color: var(--sklearn-color-fitted-level-2);\n",
       "}\n",
       "\n",
       "/* Estimator label */\n",
       "\n",
       "#sk-container-id-1 div.sk-label label {\n",
       "  font-family: monospace;\n",
       "  font-weight: bold;\n",
       "  display: inline-block;\n",
       "  line-height: 1.2em;\n",
       "}\n",
       "\n",
       "#sk-container-id-1 div.sk-label-container {\n",
       "  text-align: center;\n",
       "}\n",
       "\n",
       "/* Estimator-specific */\n",
       "#sk-container-id-1 div.sk-estimator {\n",
       "  font-family: monospace;\n",
       "  border: 1px dotted var(--sklearn-color-border-box);\n",
       "  border-radius: 0.25em;\n",
       "  box-sizing: border-box;\n",
       "  margin-bottom: 0.5em;\n",
       "  /* unfitted */\n",
       "  background-color: var(--sklearn-color-unfitted-level-0);\n",
       "}\n",
       "\n",
       "#sk-container-id-1 div.sk-estimator.fitted {\n",
       "  /* fitted */\n",
       "  background-color: var(--sklearn-color-fitted-level-0);\n",
       "}\n",
       "\n",
       "/* on hover */\n",
       "#sk-container-id-1 div.sk-estimator:hover {\n",
       "  /* unfitted */\n",
       "  background-color: var(--sklearn-color-unfitted-level-2);\n",
       "}\n",
       "\n",
       "#sk-container-id-1 div.sk-estimator.fitted:hover {\n",
       "  /* fitted */\n",
       "  background-color: var(--sklearn-color-fitted-level-2);\n",
       "}\n",
       "\n",
       "/* Specification for estimator info (e.g. \"i\" and \"?\") */\n",
       "\n",
       "/* Common style for \"i\" and \"?\" */\n",
       "\n",
       ".sk-estimator-doc-link,\n",
       "a:link.sk-estimator-doc-link,\n",
       "a:visited.sk-estimator-doc-link {\n",
       "  float: right;\n",
       "  font-size: smaller;\n",
       "  line-height: 1em;\n",
       "  font-family: monospace;\n",
       "  background-color: var(--sklearn-color-background);\n",
       "  border-radius: 1em;\n",
       "  height: 1em;\n",
       "  width: 1em;\n",
       "  text-decoration: none !important;\n",
       "  margin-left: 1ex;\n",
       "  /* unfitted */\n",
       "  border: var(--sklearn-color-unfitted-level-1) 1pt solid;\n",
       "  color: var(--sklearn-color-unfitted-level-1);\n",
       "}\n",
       "\n",
       ".sk-estimator-doc-link.fitted,\n",
       "a:link.sk-estimator-doc-link.fitted,\n",
       "a:visited.sk-estimator-doc-link.fitted {\n",
       "  /* fitted */\n",
       "  border: var(--sklearn-color-fitted-level-1) 1pt solid;\n",
       "  color: var(--sklearn-color-fitted-level-1);\n",
       "}\n",
       "\n",
       "/* On hover */\n",
       "div.sk-estimator:hover .sk-estimator-doc-link:hover,\n",
       ".sk-estimator-doc-link:hover,\n",
       "div.sk-label-container:hover .sk-estimator-doc-link:hover,\n",
       ".sk-estimator-doc-link:hover {\n",
       "  /* unfitted */\n",
       "  background-color: var(--sklearn-color-unfitted-level-3);\n",
       "  color: var(--sklearn-color-background);\n",
       "  text-decoration: none;\n",
       "}\n",
       "\n",
       "div.sk-estimator.fitted:hover .sk-estimator-doc-link.fitted:hover,\n",
       ".sk-estimator-doc-link.fitted:hover,\n",
       "div.sk-label-container:hover .sk-estimator-doc-link.fitted:hover,\n",
       ".sk-estimator-doc-link.fitted:hover {\n",
       "  /* fitted */\n",
       "  background-color: var(--sklearn-color-fitted-level-3);\n",
       "  color: var(--sklearn-color-background);\n",
       "  text-decoration: none;\n",
       "}\n",
       "\n",
       "/* Span, style for the box shown on hovering the info icon */\n",
       ".sk-estimator-doc-link span {\n",
       "  display: none;\n",
       "  z-index: 9999;\n",
       "  position: relative;\n",
       "  font-weight: normal;\n",
       "  right: .2ex;\n",
       "  padding: .5ex;\n",
       "  margin: .5ex;\n",
       "  width: min-content;\n",
       "  min-width: 20ex;\n",
       "  max-width: 50ex;\n",
       "  color: var(--sklearn-color-text);\n",
       "  box-shadow: 2pt 2pt 4pt #999;\n",
       "  /* unfitted */\n",
       "  background: var(--sklearn-color-unfitted-level-0);\n",
       "  border: .5pt solid var(--sklearn-color-unfitted-level-3);\n",
       "}\n",
       "\n",
       ".sk-estimator-doc-link.fitted span {\n",
       "  /* fitted */\n",
       "  background: var(--sklearn-color-fitted-level-0);\n",
       "  border: var(--sklearn-color-fitted-level-3);\n",
       "}\n",
       "\n",
       ".sk-estimator-doc-link:hover span {\n",
       "  display: block;\n",
       "}\n",
       "\n",
       "/* \"?\"-specific style due to the `<a>` HTML tag */\n",
       "\n",
       "#sk-container-id-1 a.estimator_doc_link {\n",
       "  float: right;\n",
       "  font-size: 1rem;\n",
       "  line-height: 1em;\n",
       "  font-family: monospace;\n",
       "  background-color: var(--sklearn-color-background);\n",
       "  border-radius: 1rem;\n",
       "  height: 1rem;\n",
       "  width: 1rem;\n",
       "  text-decoration: none;\n",
       "  /* unfitted */\n",
       "  color: var(--sklearn-color-unfitted-level-1);\n",
       "  border: var(--sklearn-color-unfitted-level-1) 1pt solid;\n",
       "}\n",
       "\n",
       "#sk-container-id-1 a.estimator_doc_link.fitted {\n",
       "  /* fitted */\n",
       "  border: var(--sklearn-color-fitted-level-1) 1pt solid;\n",
       "  color: var(--sklearn-color-fitted-level-1);\n",
       "}\n",
       "\n",
       "/* On hover */\n",
       "#sk-container-id-1 a.estimator_doc_link:hover {\n",
       "  /* unfitted */\n",
       "  background-color: var(--sklearn-color-unfitted-level-3);\n",
       "  color: var(--sklearn-color-background);\n",
       "  text-decoration: none;\n",
       "}\n",
       "\n",
       "#sk-container-id-1 a.estimator_doc_link.fitted:hover {\n",
       "  /* fitted */\n",
       "  background-color: var(--sklearn-color-fitted-level-3);\n",
       "}\n",
       "</style><div id=\"sk-container-id-1\" class=\"sk-top-container\"><div class=\"sk-text-repr-fallback\"><pre>DecisionTreeClassifier(max_depth=4)</pre><b>In a Jupyter environment, please rerun this cell to show the HTML representation or trust the notebook. <br />On GitHub, the HTML representation is unable to render, please try loading this page with nbviewer.org.</b></div><div class=\"sk-container\" hidden><div class=\"sk-item\"><div class=\"sk-estimator fitted sk-toggleable\"><input class=\"sk-toggleable__control sk-hidden--visually\" id=\"sk-estimator-id-1\" type=\"checkbox\" checked><label for=\"sk-estimator-id-1\" class=\"sk-toggleable__label fitted sk-toggleable__label-arrow fitted\">&nbsp;&nbsp;DecisionTreeClassifier<a class=\"sk-estimator-doc-link fitted\" rel=\"noreferrer\" target=\"_blank\" href=\"https://scikit-learn.org/1.5/modules/generated/sklearn.tree.DecisionTreeClassifier.html\">?<span>Documentation for DecisionTreeClassifier</span></a><span class=\"sk-estimator-doc-link fitted\">i<span>Fitted</span></span></label><div class=\"sk-toggleable__content fitted\"><pre>DecisionTreeClassifier(max_depth=4)</pre></div> </div></div></div></div>"
      ],
      "text/plain": [
       "DecisionTreeClassifier(max_depth=4)"
      ]
     },
     "execution_count": 11,
     "metadata": {},
     "output_type": "execute_result"
    }
   ],
   "source": [
    "y = wine.target\n",
    "X = df_wine\n",
    "dt = DecisionTreeClassifier(max_depth=4)\n",
    "dt.fit(X, y)"
   ]
  },
  {
   "cell_type": "code",
   "execution_count": 12,
   "metadata": {},
   "outputs": [
    {
     "data": {
      "text/plain": [
       "0.9887640449438202"
      ]
     },
     "execution_count": 12,
     "metadata": {},
     "output_type": "execute_result"
    }
   ],
   "source": [
    "accuracy_score(y, dt.predict(df_wine))"
   ]
  },
  {
   "attachments": {},
   "cell_type": "markdown",
   "metadata": {},
   "source": [
    "## Train a Model Using MLFLow\n",
    "\n",
    "In this section, let's train a simple decision tree model, where we will now adjust the maximum depth (`max_depth`) of the tree, and save the results of each run of the experiment using mlflow. To do so, we need to tell mlflow to start recording. We do this with `start_run`. \n",
    "\n",
    "The things we might want to record in this simple case are:\n",
    "- the value of `max_depth`\n",
    "- the corresponding accuracy of the model\n",
    "\n",
    "We can also tag each run to make it easier to identify them later.\n",
    "\n",
    "After running the below code, be sure to check the mlflow UI by running the following in the terminal from the same directory as where you saved this notebook:\n",
    "\n",
    "`mlflow ui` note that just running this you will not see any of your experiments. You must specify the uri (the place where all of your results are being stored)\n",
    "\n",
    "`mlflow ui --backend-store-uri sqlite:///mlflow.db`"
   ]
  },
  {
   "cell_type": "code",
   "execution_count": 13,
   "metadata": {},
   "outputs": [
    {
     "name": "stderr",
     "output_type": "stream",
     "text": [
      "2025/04/17 21:32:48 INFO mlflow.tracking._tracking_service.client: 🏃 View run clean-wolf-56 at: https://mlflow-server1-759416646959.us-west2.run.app/#/experiments/1/runs/c47d1c37518a4a17a3a02f2bb3b456f7.\n",
      "2025/04/17 21:32:48 INFO mlflow.tracking._tracking_service.client: 🧪 View experiment at: https://mlflow-server1-759416646959.us-west2.run.app/#/experiments/1.\n"
     ]
    }
   ],
   "source": [
    "with mlflow.start_run():\n",
    "    # log parameters and log metrics\n",
    "    # parameters: hyperparameters\n",
    "    # metrics: model performance metrics\n",
    "\n",
    "    mlflow.set_tags({\"Model\":\"decision-tree\", \"Train Data\": \"all-data\"})\n",
    "\n",
    "    tree_depth = 5\n",
    "    dt = DecisionTreeClassifier(max_depth=tree_depth)\n",
    "    dt.fit(X, y)\n",
    "    acc = accuracy_score(y, dt.predict(df_wine))\n",
    "\n",
    "    mlflow.log_param(\"max_depth\", tree_depth)\n",
    "    mlflow.log_metric(\"accuracy\", acc)\n",
    "\n",
    "mlflow.end_run()"
   ]
  },
  {
   "attachments": {},
   "cell_type": "markdown",
   "metadata": {},
   "source": [
    "Let's do it again, but this time we'll use a random forest, which has some other hyperparameters we can tune, which makes keeping track of things a little more complex without a tool like mlflow."
   ]
  },
  {
   "cell_type": "code",
   "execution_count": 14,
   "metadata": {},
   "outputs": [
    {
     "name": "stderr",
     "output_type": "stream",
     "text": [
      "2025/04/17 21:32:49 INFO mlflow.tracking._tracking_service.client: 🏃 View run fun-rook-910 at: https://mlflow-server1-759416646959.us-west2.run.app/#/experiments/1/runs/2bc8556c19404a21997ac0db8af58afa.\n",
      "2025/04/17 21:32:49 INFO mlflow.tracking._tracking_service.client: 🧪 View experiment at: https://mlflow-server1-759416646959.us-west2.run.app/#/experiments/1.\n"
     ]
    }
   ],
   "source": [
    "from sklearn.ensemble import RandomForestClassifier\n",
    "\n",
    "with mlflow.start_run():\n",
    "    mlflow.set_tags({\"Model\":\"random-forest\", \"Train Data\": \"all-data\"})\n",
    "\n",
    "    ntree = 1000\n",
    "    mtry = 4\n",
    "\n",
    "    mlflow.log_params({'n_estimators':ntree, 'max_features':mtry})\n",
    "\n",
    "    rf = RandomForestClassifier(n_estimators = ntree, max_features = mtry, oob_score = True)\n",
    "    rf.fit(X,y)\n",
    "    acc = rf.oob_score_\n",
    "    #acc = accuracy_score(y, rf.predict(X))\n",
    "    mlflow.log_metric('accuracy', acc)\n",
    "\n",
    "mlflow.end_run()"
   ]
  },
  {
   "attachments": {},
   "cell_type": "markdown",
   "metadata": {},
   "source": [
    "Typically, in a real-world scenario, you wouldn't change your parameter values manually and re-run your code, you would either use a loop to loop through different parameter values, or you'd use a built-in method for doing cross-validation, of which there are a few. First, let's use a simple loop to run the experiment multiple times, and save the results of each run."
   ]
  },
  {
   "cell_type": "code",
   "execution_count": null,
   "metadata": {},
   "outputs": [],
   "source": []
  },
  {
   "cell_type": "code",
   "execution_count": 15,
   "metadata": {},
   "outputs": [
    {
     "name": "stderr",
     "output_type": "stream",
     "text": [
      "2025/04/17 21:32:50 INFO mlflow.tracking._tracking_service.client: 🏃 View run colorful-ox-49 at: https://mlflow-server1-759416646959.us-west2.run.app/#/experiments/1/runs/4e35da61528847e9b8b44afb839e1a3a.\n",
      "2025/04/17 21:32:50 INFO mlflow.tracking._tracking_service.client: 🧪 View experiment at: https://mlflow-server1-759416646959.us-west2.run.app/#/experiments/1.\n",
      "2025/04/17 21:32:50 INFO mlflow.tracking._tracking_service.client: 🏃 View run bittersweet-toad-16 at: https://mlflow-server1-759416646959.us-west2.run.app/#/experiments/1/runs/1dcd0e8d492c4ae5a33df918a21bed9b.\n",
      "2025/04/17 21:32:50 INFO mlflow.tracking._tracking_service.client: 🧪 View experiment at: https://mlflow-server1-759416646959.us-west2.run.app/#/experiments/1.\n",
      "2025/04/17 21:32:51 INFO mlflow.tracking._tracking_service.client: 🏃 View run puzzled-ram-531 at: https://mlflow-server1-759416646959.us-west2.run.app/#/experiments/1/runs/12a4a821e2fe421ebf8352cfae7e2eb9.\n",
      "2025/04/17 21:32:51 INFO mlflow.tracking._tracking_service.client: 🧪 View experiment at: https://mlflow-server1-759416646959.us-west2.run.app/#/experiments/1.\n",
      "2025/04/17 21:32:51 INFO mlflow.tracking._tracking_service.client: 🏃 View run sassy-dove-512 at: https://mlflow-server1-759416646959.us-west2.run.app/#/experiments/1/runs/a53afc6aeb9c478bbd761914fb58ce73.\n",
      "2025/04/17 21:32:51 INFO mlflow.tracking._tracking_service.client: 🧪 View experiment at: https://mlflow-server1-759416646959.us-west2.run.app/#/experiments/1.\n",
      "2025/04/17 21:32:51 INFO mlflow.tracking._tracking_service.client: 🏃 View run fearless-fish-195 at: https://mlflow-server1-759416646959.us-west2.run.app/#/experiments/1/runs/0dacae52acaf445f902465294978416e.\n",
      "2025/04/17 21:32:51 INFO mlflow.tracking._tracking_service.client: 🧪 View experiment at: https://mlflow-server1-759416646959.us-west2.run.app/#/experiments/1.\n",
      "2025/04/17 21:32:52 INFO mlflow.tracking._tracking_service.client: 🏃 View run abundant-trout-280 at: https://mlflow-server1-759416646959.us-west2.run.app/#/experiments/1/runs/1fdc3a30528a4eaf85cf91b28b19d4dc.\n",
      "2025/04/17 21:32:52 INFO mlflow.tracking._tracking_service.client: 🧪 View experiment at: https://mlflow-server1-759416646959.us-west2.run.app/#/experiments/1.\n",
      "2025/04/17 21:32:52 INFO mlflow.tracking._tracking_service.client: 🏃 View run thoughtful-dove-380 at: https://mlflow-server1-759416646959.us-west2.run.app/#/experiments/1/runs/86ea25a9a7a2465ab9779789087e31ab.\n",
      "2025/04/17 21:32:52 INFO mlflow.tracking._tracking_service.client: 🧪 View experiment at: https://mlflow-server1-759416646959.us-west2.run.app/#/experiments/1.\n",
      "2025/04/17 21:32:52 INFO mlflow.tracking._tracking_service.client: 🏃 View run luxuriant-goat-720 at: https://mlflow-server1-759416646959.us-west2.run.app/#/experiments/1/runs/64d842c94abe44f4857c453106c3d50a.\n",
      "2025/04/17 21:32:52 INFO mlflow.tracking._tracking_service.client: 🧪 View experiment at: https://mlflow-server1-759416646959.us-west2.run.app/#/experiments/1.\n",
      "2025/04/17 21:32:53 INFO mlflow.tracking._tracking_service.client: 🏃 View run mercurial-boar-761 at: https://mlflow-server1-759416646959.us-west2.run.app/#/experiments/1/runs/b499044ff9464a758bbb8a7f5afeb6d6.\n",
      "2025/04/17 21:32:53 INFO mlflow.tracking._tracking_service.client: 🧪 View experiment at: https://mlflow-server1-759416646959.us-west2.run.app/#/experiments/1.\n",
      "2025/04/17 21:32:53 INFO mlflow.tracking._tracking_service.client: 🏃 View run stylish-finch-699 at: https://mlflow-server1-759416646959.us-west2.run.app/#/experiments/1/runs/ade9ed92c9574a6688a985048a8704d9.\n",
      "2025/04/17 21:32:53 INFO mlflow.tracking._tracking_service.client: 🧪 View experiment at: https://mlflow-server1-759416646959.us-west2.run.app/#/experiments/1.\n",
      "2025/04/17 21:32:54 INFO mlflow.tracking._tracking_service.client: 🏃 View run popular-cod-402 at: https://mlflow-server1-759416646959.us-west2.run.app/#/experiments/1/runs/7545ff3eaf9f4310b902a130bf2cea79.\n",
      "2025/04/17 21:32:54 INFO mlflow.tracking._tracking_service.client: 🧪 View experiment at: https://mlflow-server1-759416646959.us-west2.run.app/#/experiments/1.\n",
      "2025/04/17 21:32:54 INFO mlflow.tracking._tracking_service.client: 🏃 View run mysterious-mouse-239 at: https://mlflow-server1-759416646959.us-west2.run.app/#/experiments/1/runs/e38f9327ec814205ac432f9994532351.\n",
      "2025/04/17 21:32:54 INFO mlflow.tracking._tracking_service.client: 🧪 View experiment at: https://mlflow-server1-759416646959.us-west2.run.app/#/experiments/1.\n",
      "2025/04/17 21:32:55 INFO mlflow.tracking._tracking_service.client: 🏃 View run judicious-deer-804 at: https://mlflow-server1-759416646959.us-west2.run.app/#/experiments/1/runs/7e360b6d6c164aaea92f97b27f5ead8c.\n",
      "2025/04/17 21:32:55 INFO mlflow.tracking._tracking_service.client: 🧪 View experiment at: https://mlflow-server1-759416646959.us-west2.run.app/#/experiments/1.\n",
      "2025/04/17 21:32:55 INFO mlflow.tracking._tracking_service.client: 🏃 View run marvelous-moose-464 at: https://mlflow-server1-759416646959.us-west2.run.app/#/experiments/1/runs/f4898232a0864e4aa0c78d1d1538cb4b.\n",
      "2025/04/17 21:32:55 INFO mlflow.tracking._tracking_service.client: 🧪 View experiment at: https://mlflow-server1-759416646959.us-west2.run.app/#/experiments/1.\n",
      "2025/04/17 21:32:55 INFO mlflow.tracking._tracking_service.client: 🏃 View run caring-croc-531 at: https://mlflow-server1-759416646959.us-west2.run.app/#/experiments/1/runs/feb853d8725144b3b4b4636d5bbcdc85.\n",
      "2025/04/17 21:32:55 INFO mlflow.tracking._tracking_service.client: 🧪 View experiment at: https://mlflow-server1-759416646959.us-west2.run.app/#/experiments/1.\n"
     ]
    }
   ],
   "source": [
    "ntrees = [20,40,60,80,100]\n",
    "mtrys = [3,4,5]\n",
    "for i in ntrees:\n",
    "    for j in mtrys:\n",
    "        with mlflow.start_run():\n",
    "            mlflow.set_tags({\"Model\":\"random-forest\", \"Train Data\": \"all-data\"})\n",
    "\n",
    "            mlflow.log_params({'n_estimators':i, 'max_features':j})\n",
    "\n",
    "            rf = RandomForestClassifier(n_estimators = i, max_features = j, oob_score = True)\n",
    "            rf.fit(X,y)\n",
    "            acc = rf.oob_score_\n",
    "            #acc = accuracy_score(y, rf.predict(X))\n",
    "            mlflow.log_metric('accuracy', acc)\n",
    "        mlflow.end_run()"
   ]
  },
  {
   "cell_type": "code",
   "execution_count": null,
   "metadata": {},
   "outputs": [],
   "source": []
  },
  {
   "cell_type": "code",
   "execution_count": 16,
   "metadata": {},
   "outputs": [],
   "source": [
    "# ."
   ]
  },
  {
   "attachments": {},
   "cell_type": "markdown",
   "metadata": {},
   "source": [
    "## Training a Model with mlflow and hyperopt\n",
    "\n",
    "One way of tuning your model is to use the `hyperopt` library. `hyperopt` is a library that does hyperparameter tuning, and does so in a way that makes it easy for mlflow to keep track of the results. \n",
    "\n",
    "First, install the libraries you don't have, and then load them below. We do not use `hyperopt` much in the class, so if you don't want to add it to your requirements.txt file, you don't have to.\n",
    "\n",
    "For this exercise, we'll split the data into training and validation, and then we'll train decision trees and random forests and use `hyperopt` to do the hyperparameter tuning and find the best model for us."
   ]
  },
  {
   "cell_type": "code",
   "execution_count": 17,
   "metadata": {},
   "outputs": [],
   "source": [
    "from hyperopt import fmin, tpe, hp, STATUS_OK, Trials\n",
    "from sklearn.model_selection import cross_val_score, train_test_split\n",
    "\n",
    "X_train, X_test, y_train, y_test = train_test_split(X, y, test_size=0.2, shuffle=True)"
   ]
  },
  {
   "attachments": {},
   "cell_type": "markdown",
   "metadata": {},
   "source": [
    "From the above we will use `cross_val_score` for our metric, `fmin` is used by `hyperopt` to do the tuning, `tpe` (Tree of Parzen Estimators) is the algorithm used to search the hyperparameter space,  `hp` has methods we need to use for defining our search space, `STATUS_OK` is a status message that each run completed, and `Trials` keeps track of each run."
   ]
  },
  {
   "cell_type": "code",
   "execution_count": 18,
   "metadata": {},
   "outputs": [],
   "source": [
    "def objective(params):\n",
    "    with mlflow.start_run():\n",
    "        classifier_type = params['type']\n",
    "        del params['type']\n",
    "        if classifier_type == 'dt':\n",
    "            clf = DecisionTreeClassifier(**params)\n",
    "        elif classifier_type == 'rf':\n",
    "            clf = RandomForestClassifier(**params)        \n",
    "        else:\n",
    "            return 0\n",
    "        acc = cross_val_score(clf, X, y).mean()\n",
    "\n",
    "        mlflow.set_tag(\"Model\", classifier_type)\n",
    "        mlflow.log_params(params)\n",
    "        mlflow.log_metric(\"accuracy\", acc)\n",
    "        mlflow.end_run()\n",
    "        return {'loss': -acc, 'status': STATUS_OK}\n",
    "\n",
    "search_space = hp.choice('classifier_type', [\n",
    "    {\n",
    "        'type': 'dt',\n",
    "        'criterion': hp.choice('dtree_criterion', ['gini', 'entropy']),\n",
    "        'max_depth': hp.choice('dtree_max_depth', [None, hp.randint('dtree_max_depth_int', 1,10)]),\n",
    "        'min_samples_split': hp.randint('dtree_min_samples_split', 2,10)\n",
    "    },\n",
    "    {\n",
    "        'type': 'rf',\n",
    "        'n_estimators': hp.randint('rf_n_estimators', 20, 500),\n",
    "        'max_features': hp.randint('rf_max_features', 2,9),\n",
    "        'criterion': hp.choice('criterion', ['gini', 'entropy'])\n",
    "    },\n",
    "])\n",
    "\n",
    "algo = tpe.suggest\n",
    "trials = Trials()"
   ]
  },
  {
   "cell_type": "code",
   "execution_count": 19,
   "metadata": {},
   "outputs": [
    {
     "name": "stdout",
     "output_type": "stream",
     "text": [
      "  0%|          | 0/32 [00:00<?, ?trial/s, best loss=?]"
     ]
    },
    {
     "name": "stderr",
     "output_type": "stream",
     "text": [
      "2025/04/17 21:32:56 INFO mlflow.tracking._tracking_service.client: 🏃 View run abrasive-gull-63 at: https://mlflow-server1-759416646959.us-west2.run.app/#/experiments/1/runs/5c2009dd7a294697baeabb225dc1af84.\n",
      "\n",
      "2025/04/17 21:32:56 INFO mlflow.tracking._tracking_service.client: 🧪 View experiment at: https://mlflow-server1-759416646959.us-west2.run.app/#/experiments/1.\n",
      "\n"
     ]
    },
    {
     "name": "stdout",
     "output_type": "stream",
     "text": [
      "  3%|▎         | 1/32 [00:00<00:26,  1.19trial/s, best loss: -0.9665079365079364]"
     ]
    },
    {
     "name": "stderr",
     "output_type": "stream",
     "text": [
      "2025/04/17 21:32:57 INFO mlflow.tracking._tracking_service.client: 🏃 View run enchanting-snail-696 at: https://mlflow-server1-759416646959.us-west2.run.app/#/experiments/1/runs/98ceb35810334fe1810c22bf9e5ae4b1.\n",
      "\n",
      "2025/04/17 21:32:57 INFO mlflow.tracking._tracking_service.client: 🧪 View experiment at: https://mlflow-server1-759416646959.us-west2.run.app/#/experiments/1.\n",
      "\n"
     ]
    },
    {
     "name": "stdout",
     "output_type": "stream",
     "text": [
      "  6%|▋         | 2/32 [00:01<00:17,  1.74trial/s, best loss: -0.9665079365079364]"
     ]
    },
    {
     "name": "stderr",
     "output_type": "stream",
     "text": [
      "2025/04/17 21:32:58 INFO mlflow.tracking._tracking_service.client: 🏃 View run enthused-deer-827 at: https://mlflow-server1-759416646959.us-west2.run.app/#/experiments/1/runs/51804933ad594cbe953d6a6e78f84594.\n",
      "\n",
      "2025/04/17 21:32:58 INFO mlflow.tracking._tracking_service.client: 🧪 View experiment at: https://mlflow-server1-759416646959.us-west2.run.app/#/experiments/1.\n",
      "\n"
     ]
    },
    {
     "name": "stdout",
     "output_type": "stream",
     "text": [
      "  9%|▉         | 3/32 [00:02<00:20,  1.45trial/s, best loss: -0.9665079365079364]"
     ]
    },
    {
     "name": "stderr",
     "output_type": "stream",
     "text": [
      "2025/04/17 21:32:58 INFO mlflow.tracking._tracking_service.client: 🏃 View run orderly-wren-1000 at: https://mlflow-server1-759416646959.us-west2.run.app/#/experiments/1/runs/3cc19b90c5ee4e68ae4267b31025b622.\n",
      "\n",
      "2025/04/17 21:32:58 INFO mlflow.tracking._tracking_service.client: 🧪 View experiment at: https://mlflow-server1-759416646959.us-west2.run.app/#/experiments/1.\n",
      "\n"
     ]
    },
    {
     "name": "stdout",
     "output_type": "stream",
     "text": [
      " 12%|█▎        | 4/32 [00:02<00:15,  1.84trial/s, best loss: -0.9665079365079364]"
     ]
    },
    {
     "name": "stderr",
     "output_type": "stream",
     "text": [
      "2025/04/17 21:32:59 INFO mlflow.tracking._tracking_service.client: 🏃 View run debonair-loon-192 at: https://mlflow-server1-759416646959.us-west2.run.app/#/experiments/1/runs/bb9bb285a8a34b6ea9d7b2074e7504ca.\n",
      "\n",
      "2025/04/17 21:32:59 INFO mlflow.tracking._tracking_service.client: 🧪 View experiment at: https://mlflow-server1-759416646959.us-west2.run.app/#/experiments/1.\n",
      "\n"
     ]
    },
    {
     "name": "stdout",
     "output_type": "stream",
     "text": [
      " 16%|█▌        | 5/32 [00:03<00:20,  1.32trial/s, best loss: -0.972063492063492] "
     ]
    },
    {
     "name": "stderr",
     "output_type": "stream",
     "text": [
      "2025/04/17 21:33:01 INFO mlflow.tracking._tracking_service.client: 🏃 View run youthful-asp-650 at: https://mlflow-server1-759416646959.us-west2.run.app/#/experiments/1/runs/77734eeef36340bd8cf1476aa43aaa2b.\n",
      "\n",
      "2025/04/17 21:33:01 INFO mlflow.tracking._tracking_service.client: 🧪 View experiment at: https://mlflow-server1-759416646959.us-west2.run.app/#/experiments/1.\n",
      "\n"
     ]
    },
    {
     "name": "stdout",
     "output_type": "stream",
     "text": [
      " 19%|█▉        | 6/32 [00:05<00:26,  1.02s/trial, best loss: -0.972063492063492]"
     ]
    },
    {
     "name": "stderr",
     "output_type": "stream",
     "text": [
      "2025/04/17 21:33:01 INFO mlflow.tracking._tracking_service.client: 🏃 View run grandiose-hen-860 at: https://mlflow-server1-759416646959.us-west2.run.app/#/experiments/1/runs/ea71205dfe2e41d38b2c5c19df4a4604.\n",
      "\n",
      "2025/04/17 21:33:01 INFO mlflow.tracking._tracking_service.client: 🧪 View experiment at: https://mlflow-server1-759416646959.us-west2.run.app/#/experiments/1.\n",
      "\n"
     ]
    },
    {
     "name": "stdout",
     "output_type": "stream",
     "text": [
      " 22%|██▏       | 7/32 [00:05<00:19,  1.28trial/s, best loss: -0.972063492063492]"
     ]
    },
    {
     "name": "stderr",
     "output_type": "stream",
     "text": [
      "2025/04/17 21:33:01 INFO mlflow.tracking._tracking_service.client: 🏃 View run awesome-shrimp-880 at: https://mlflow-server1-759416646959.us-west2.run.app/#/experiments/1/runs/3da59b9ac2e34c6db5fa0a8a2aea2287.\n",
      "\n",
      "2025/04/17 21:33:01 INFO mlflow.tracking._tracking_service.client: 🧪 View experiment at: https://mlflow-server1-759416646959.us-west2.run.app/#/experiments/1.\n",
      "\n"
     ]
    },
    {
     "name": "stdout",
     "output_type": "stream",
     "text": [
      " 25%|██▌       | 8/32 [00:05<00:15,  1.53trial/s, best loss: -0.972063492063492]"
     ]
    },
    {
     "name": "stderr",
     "output_type": "stream",
     "text": [
      "2025/04/17 21:33:02 INFO mlflow.tracking._tracking_service.client: 🏃 View run legendary-snail-940 at: https://mlflow-server1-759416646959.us-west2.run.app/#/experiments/1/runs/5ec42ad365124c8189c2ab737227dee5.\n",
      "\n",
      "2025/04/17 21:33:02 INFO mlflow.tracking._tracking_service.client: 🧪 View experiment at: https://mlflow-server1-759416646959.us-west2.run.app/#/experiments/1.\n",
      "\n"
     ]
    },
    {
     "name": "stdout",
     "output_type": "stream",
     "text": [
      " 28%|██▊       | 9/32 [00:06<00:13,  1.70trial/s, best loss: -0.972063492063492]"
     ]
    },
    {
     "name": "stderr",
     "output_type": "stream",
     "text": [
      "2025/04/17 21:33:04 INFO mlflow.tracking._tracking_service.client: 🏃 View run trusting-steed-292 at: https://mlflow-server1-759416646959.us-west2.run.app/#/experiments/1/runs/527a5e6d713b4aa58dc3c2c4850952c3.\n",
      "\n",
      "2025/04/17 21:33:04 INFO mlflow.tracking._tracking_service.client: 🧪 View experiment at: https://mlflow-server1-759416646959.us-west2.run.app/#/experiments/1.\n",
      "\n"
     ]
    },
    {
     "name": "stdout",
     "output_type": "stream",
     "text": [
      " 31%|███▏      | 10/32 [00:08<00:21,  1.02trial/s, best loss: -0.972063492063492]"
     ]
    },
    {
     "name": "stderr",
     "output_type": "stream",
     "text": [
      "2025/04/17 21:33:04 INFO mlflow.tracking._tracking_service.client: 🏃 View run nervous-elk-908 at: https://mlflow-server1-759416646959.us-west2.run.app/#/experiments/1/runs/03c849814060450383791ab989c60095.\n",
      "\n",
      "2025/04/17 21:33:04 INFO mlflow.tracking._tracking_service.client: 🧪 View experiment at: https://mlflow-server1-759416646959.us-west2.run.app/#/experiments/1.\n",
      "\n"
     ]
    },
    {
     "name": "stdout",
     "output_type": "stream",
     "text": [
      " 34%|███▍      | 11/32 [00:08<00:16,  1.29trial/s, best loss: -0.972063492063492]"
     ]
    },
    {
     "name": "stderr",
     "output_type": "stream",
     "text": [
      "2025/04/17 21:33:04 INFO mlflow.tracking._tracking_service.client: 🏃 View run intrigued-mouse-749 at: https://mlflow-server1-759416646959.us-west2.run.app/#/experiments/1/runs/6b780b449cb14bd5a3dad9a96a784a96.\n",
      "\n",
      "2025/04/17 21:33:04 INFO mlflow.tracking._tracking_service.client: 🧪 View experiment at: https://mlflow-server1-759416646959.us-west2.run.app/#/experiments/1.\n",
      "\n"
     ]
    },
    {
     "name": "stdout",
     "output_type": "stream",
     "text": [
      " 38%|███▊      | 12/32 [00:08<00:13,  1.48trial/s, best loss: -0.972063492063492]"
     ]
    },
    {
     "name": "stderr",
     "output_type": "stream",
     "text": [
      "2025/04/17 21:33:05 INFO mlflow.tracking._tracking_service.client: 🏃 View run bright-goat-622 at: https://mlflow-server1-759416646959.us-west2.run.app/#/experiments/1/runs/47a881f12e584b2c9e2ca9aca8821091.\n",
      "\n",
      "2025/04/17 21:33:05 INFO mlflow.tracking._tracking_service.client: 🧪 View experiment at: https://mlflow-server1-759416646959.us-west2.run.app/#/experiments/1.\n",
      "\n"
     ]
    },
    {
     "name": "stdout",
     "output_type": "stream",
     "text": [
      " 41%|████      | 13/32 [00:09<00:10,  1.78trial/s, best loss: -0.972063492063492]"
     ]
    },
    {
     "name": "stderr",
     "output_type": "stream",
     "text": [
      "2025/04/17 21:33:05 INFO mlflow.tracking._tracking_service.client: 🏃 View run vaunted-kite-725 at: https://mlflow-server1-759416646959.us-west2.run.app/#/experiments/1/runs/0be9f35a2dc54940a5f66699854135c4.\n",
      "\n",
      "2025/04/17 21:33:05 INFO mlflow.tracking._tracking_service.client: 🧪 View experiment at: https://mlflow-server1-759416646959.us-west2.run.app/#/experiments/1.\n",
      "\n"
     ]
    },
    {
     "name": "stdout",
     "output_type": "stream",
     "text": [
      " 44%|████▍     | 14/32 [00:09<00:08,  2.07trial/s, best loss: -0.972063492063492]"
     ]
    },
    {
     "name": "stderr",
     "output_type": "stream",
     "text": [
      "2025/04/17 21:33:06 INFO mlflow.tracking._tracking_service.client: 🏃 View run dashing-auk-656 at: https://mlflow-server1-759416646959.us-west2.run.app/#/experiments/1/runs/c1630a10b15041e49d187b6a154c7aed.\n",
      "\n",
      "2025/04/17 21:33:06 INFO mlflow.tracking._tracking_service.client: 🧪 View experiment at: https://mlflow-server1-759416646959.us-west2.run.app/#/experiments/1.\n",
      "\n"
     ]
    },
    {
     "name": "stdout",
     "output_type": "stream",
     "text": [
      " 47%|████▋     | 15/32 [00:10<00:12,  1.34trial/s, best loss: -0.972063492063492]"
     ]
    },
    {
     "name": "stderr",
     "output_type": "stream",
     "text": [
      "2025/04/17 21:33:09 INFO mlflow.tracking._tracking_service.client: 🏃 View run clumsy-dog-573 at: https://mlflow-server1-759416646959.us-west2.run.app/#/experiments/1/runs/2623ef9be40f4a04ac0f9bbf04e501e5.\n",
      "\n",
      "2025/04/17 21:33:09 INFO mlflow.tracking._tracking_service.client: 🧪 View experiment at: https://mlflow-server1-759416646959.us-west2.run.app/#/experiments/1.\n",
      "\n"
     ]
    },
    {
     "name": "stdout",
     "output_type": "stream",
     "text": [
      " 50%|█████     | 16/32 [00:13<00:22,  1.42s/trial, best loss: -0.972063492063492]"
     ]
    },
    {
     "name": "stderr",
     "output_type": "stream",
     "text": [
      "2025/04/17 21:33:11 INFO mlflow.tracking._tracking_service.client: 🏃 View run mercurial-foal-596 at: https://mlflow-server1-759416646959.us-west2.run.app/#/experiments/1/runs/c9ac5510acd6451db42e3bc604405a63.\n",
      "\n",
      "2025/04/17 21:33:11 INFO mlflow.tracking._tracking_service.client: 🧪 View experiment at: https://mlflow-server1-759416646959.us-west2.run.app/#/experiments/1.\n",
      "\n"
     ]
    },
    {
     "name": "stdout",
     "output_type": "stream",
     "text": [
      " 53%|█████▎    | 17/32 [00:15<00:23,  1.53s/trial, best loss: -0.9776190476190475]"
     ]
    },
    {
     "name": "stderr",
     "output_type": "stream",
     "text": [
      "2025/04/17 21:33:12 INFO mlflow.tracking._tracking_service.client: 🏃 View run abundant-shrew-192 at: https://mlflow-server1-759416646959.us-west2.run.app/#/experiments/1/runs/c0cefcc0bb2a437baad5ca5139ac3c66.\n",
      "\n",
      "2025/04/17 21:33:12 INFO mlflow.tracking._tracking_service.client: 🧪 View experiment at: https://mlflow-server1-759416646959.us-west2.run.app/#/experiments/1.\n",
      "\n"
     ]
    },
    {
     "name": "stdout",
     "output_type": "stream",
     "text": [
      " 56%|█████▋    | 18/32 [00:16<00:20,  1.45s/trial, best loss: -0.9776190476190475]"
     ]
    },
    {
     "name": "stderr",
     "output_type": "stream",
     "text": [
      "2025/04/17 21:33:13 INFO mlflow.tracking._tracking_service.client: 🏃 View run wistful-fly-942 at: https://mlflow-server1-759416646959.us-west2.run.app/#/experiments/1/runs/7a617797408e42f6ac5a41d8eb4430d0.\n",
      "\n",
      "2025/04/17 21:33:13 INFO mlflow.tracking._tracking_service.client: 🧪 View experiment at: https://mlflow-server1-759416646959.us-west2.run.app/#/experiments/1.\n",
      "\n"
     ]
    },
    {
     "name": "stdout",
     "output_type": "stream",
     "text": [
      " 59%|█████▉    | 19/32 [00:17<00:16,  1.25s/trial, best loss: -0.9776190476190475]"
     ]
    },
    {
     "name": "stderr",
     "output_type": "stream",
     "text": [
      "2025/04/17 21:33:15 INFO mlflow.tracking._tracking_service.client: 🏃 View run sedate-colt-766 at: https://mlflow-server1-759416646959.us-west2.run.app/#/experiments/1/runs/358ad8f702d3497081e135c972f3f5f1.\n",
      "\n",
      "2025/04/17 21:33:15 INFO mlflow.tracking._tracking_service.client: 🧪 View experiment at: https://mlflow-server1-759416646959.us-west2.run.app/#/experiments/1.\n",
      "\n"
     ]
    },
    {
     "name": "stdout",
     "output_type": "stream",
     "text": [
      " 62%|██████▎   | 20/32 [00:19<00:16,  1.35s/trial, best loss: -0.9776190476190475]"
     ]
    },
    {
     "name": "stderr",
     "output_type": "stream",
     "text": [
      "2025/04/17 21:33:15 INFO mlflow.tracking._tracking_service.client: 🏃 View run shivering-hare-109 at: https://mlflow-server1-759416646959.us-west2.run.app/#/experiments/1/runs/56a7ae93b60e47388cc38e1c32d81e95.\n",
      "\n",
      "2025/04/17 21:33:15 INFO mlflow.tracking._tracking_service.client: 🧪 View experiment at: https://mlflow-server1-759416646959.us-west2.run.app/#/experiments/1.\n",
      "\n"
     ]
    },
    {
     "name": "stdout",
     "output_type": "stream",
     "text": [
      " 66%|██████▌   | 21/32 [00:19<00:12,  1.09s/trial, best loss: -0.9776190476190475]"
     ]
    },
    {
     "name": "stderr",
     "output_type": "stream",
     "text": [
      "2025/04/17 21:33:16 INFO mlflow.tracking._tracking_service.client: 🏃 View run clumsy-slug-70 at: https://mlflow-server1-759416646959.us-west2.run.app/#/experiments/1/runs/c0c284be623b46e4bb729fd13e30fbc5.\n",
      "\n",
      "2025/04/17 21:33:16 INFO mlflow.tracking._tracking_service.client: 🧪 View experiment at: https://mlflow-server1-759416646959.us-west2.run.app/#/experiments/1.\n",
      "\n"
     ]
    },
    {
     "name": "stdout",
     "output_type": "stream",
     "text": [
      " 69%|██████▉   | 22/32 [00:20<00:09,  1.04trial/s, best loss: -0.9776190476190475]"
     ]
    },
    {
     "name": "stderr",
     "output_type": "stream",
     "text": [
      "2025/04/17 21:33:17 INFO mlflow.tracking._tracking_service.client: 🏃 View run ambitious-dog-443 at: https://mlflow-server1-759416646959.us-west2.run.app/#/experiments/1/runs/6d6a42e3f33644d8be289e0250adbc12.\n",
      "\n",
      "2025/04/17 21:33:17 INFO mlflow.tracking._tracking_service.client: 🧪 View experiment at: https://mlflow-server1-759416646959.us-west2.run.app/#/experiments/1.\n",
      "\n"
     ]
    },
    {
     "name": "stdout",
     "output_type": "stream",
     "text": [
      " 72%|███████▏  | 23/32 [00:21<00:08,  1.07trial/s, best loss: -0.9776190476190475]"
     ]
    },
    {
     "name": "stderr",
     "output_type": "stream",
     "text": [
      "2025/04/17 21:33:19 INFO mlflow.tracking._tracking_service.client: 🏃 View run big-carp-13 at: https://mlflow-server1-759416646959.us-west2.run.app/#/experiments/1/runs/eba0bede4920439fb539e6dcb7fc47d6.\n",
      "\n",
      "2025/04/17 21:33:19 INFO mlflow.tracking._tracking_service.client: 🧪 View experiment at: https://mlflow-server1-759416646959.us-west2.run.app/#/experiments/1.\n",
      "\n"
     ]
    },
    {
     "name": "stdout",
     "output_type": "stream",
     "text": [
      " 75%|███████▌  | 24/32 [00:23<00:09,  1.23s/trial, best loss: -0.9776190476190475]"
     ]
    },
    {
     "name": "stderr",
     "output_type": "stream",
     "text": [
      "2025/04/17 21:33:19 INFO mlflow.tracking._tracking_service.client: 🏃 View run luxuriant-gnat-717 at: https://mlflow-server1-759416646959.us-west2.run.app/#/experiments/1/runs/09f877534b344fa5884a6e36f40fdd7a.\n",
      "\n",
      "2025/04/17 21:33:19 INFO mlflow.tracking._tracking_service.client: 🧪 View experiment at: https://mlflow-server1-759416646959.us-west2.run.app/#/experiments/1.\n",
      "\n"
     ]
    },
    {
     "name": "stdout",
     "output_type": "stream",
     "text": [
      " 78%|███████▊  | 25/32 [00:23<00:07,  1.05s/trial, best loss: -0.9776190476190475]"
     ]
    },
    {
     "name": "stderr",
     "output_type": "stream",
     "text": [
      "2025/04/17 21:33:21 INFO mlflow.tracking._tracking_service.client: 🏃 View run funny-bass-430 at: https://mlflow-server1-759416646959.us-west2.run.app/#/experiments/1/runs/dee283c6377946739bc7c660c7861a74.\n",
      "\n",
      "2025/04/17 21:33:21 INFO mlflow.tracking._tracking_service.client: 🧪 View experiment at: https://mlflow-server1-759416646959.us-west2.run.app/#/experiments/1.\n",
      "\n"
     ]
    },
    {
     "name": "stdout",
     "output_type": "stream",
     "text": [
      " 81%|████████▏ | 26/32 [00:25<00:07,  1.24s/trial, best loss: -0.9776190476190475]"
     ]
    },
    {
     "name": "stderr",
     "output_type": "stream",
     "text": [
      "2025/04/17 21:33:23 INFO mlflow.tracking._tracking_service.client: 🏃 View run victorious-cat-623 at: https://mlflow-server1-759416646959.us-west2.run.app/#/experiments/1/runs/de765e9649894670bffb029973ad17f9.\n",
      "\n",
      "2025/04/17 21:33:23 INFO mlflow.tracking._tracking_service.client: 🧪 View experiment at: https://mlflow-server1-759416646959.us-west2.run.app/#/experiments/1.\n",
      "\n"
     ]
    },
    {
     "name": "stdout",
     "output_type": "stream",
     "text": [
      " 84%|████████▍ | 27/32 [00:27<00:07,  1.42s/trial, best loss: -0.9776190476190475]"
     ]
    },
    {
     "name": "stderr",
     "output_type": "stream",
     "text": [
      "2025/04/17 21:33:23 INFO mlflow.tracking._tracking_service.client: 🏃 View run tasteful-penguin-800 at: https://mlflow-server1-759416646959.us-west2.run.app/#/experiments/1/runs/f66b7841b20841d3a61fa2c4cbbed007.\n",
      "\n",
      "2025/04/17 21:33:23 INFO mlflow.tracking._tracking_service.client: 🧪 View experiment at: https://mlflow-server1-759416646959.us-west2.run.app/#/experiments/1.\n",
      "\n"
     ]
    },
    {
     "name": "stdout",
     "output_type": "stream",
     "text": [
      " 88%|████████▊ | 28/32 [00:27<00:04,  1.15s/trial, best loss: -0.9776190476190475]"
     ]
    },
    {
     "name": "stderr",
     "output_type": "stream",
     "text": [
      "2025/04/17 21:33:24 INFO mlflow.tracking._tracking_service.client: 🏃 View run bouncy-calf-61 at: https://mlflow-server1-759416646959.us-west2.run.app/#/experiments/1/runs/1d810e3bb0b04182a3ddd618ccb90389.\n",
      "\n",
      "2025/04/17 21:33:24 INFO mlflow.tracking._tracking_service.client: 🧪 View experiment at: https://mlflow-server1-759416646959.us-west2.run.app/#/experiments/1.\n",
      "\n"
     ]
    },
    {
     "name": "stdout",
     "output_type": "stream",
     "text": [
      " 91%|█████████ | 29/32 [00:28<00:03,  1.08s/trial, best loss: -0.9776190476190475]"
     ]
    },
    {
     "name": "stderr",
     "output_type": "stream",
     "text": [
      "2025/04/17 21:33:25 INFO mlflow.tracking._tracking_service.client: 🏃 View run calm-yak-951 at: https://mlflow-server1-759416646959.us-west2.run.app/#/experiments/1/runs/27a0999fc4b54e82a54dcb9016780d3b.\n",
      "\n",
      "2025/04/17 21:33:25 INFO mlflow.tracking._tracking_service.client: 🧪 View experiment at: https://mlflow-server1-759416646959.us-west2.run.app/#/experiments/1.\n",
      "\n"
     ]
    },
    {
     "name": "stdout",
     "output_type": "stream",
     "text": [
      " 94%|█████████▍| 30/32 [00:29<00:01,  1.11trial/s, best loss: -0.9833333333333332]"
     ]
    },
    {
     "name": "stderr",
     "output_type": "stream",
     "text": [
      "2025/04/17 21:33:26 INFO mlflow.tracking._tracking_service.client: 🏃 View run redolent-bee-338 at: https://mlflow-server1-759416646959.us-west2.run.app/#/experiments/1/runs/d866c0e6201047749c2dd17ac41eaa04.\n",
      "\n",
      "2025/04/17 21:33:26 INFO mlflow.tracking._tracking_service.client: 🧪 View experiment at: https://mlflow-server1-759416646959.us-west2.run.app/#/experiments/1.\n",
      "\n"
     ]
    },
    {
     "name": "stdout",
     "output_type": "stream",
     "text": [
      " 97%|█████████▋| 31/32 [00:30<00:01,  1.09s/trial, best loss: -0.9833333333333332]"
     ]
    },
    {
     "name": "stderr",
     "output_type": "stream",
     "text": [
      "2025/04/17 21:33:27 INFO mlflow.tracking._tracking_service.client: 🏃 View run overjoyed-robin-723 at: https://mlflow-server1-759416646959.us-west2.run.app/#/experiments/1/runs/773a4aacda5e4e2480c56bd1bfcdccc7.\n",
      "\n",
      "2025/04/17 21:33:27 INFO mlflow.tracking._tracking_service.client: 🧪 View experiment at: https://mlflow-server1-759416646959.us-west2.run.app/#/experiments/1.\n",
      "\n"
     ]
    },
    {
     "name": "stdout",
     "output_type": "stream",
     "text": [
      "100%|██████████| 32/32 [00:31<00:00,  1.01trial/s, best loss: -0.9833333333333332]\n"
     ]
    }
   ],
   "source": [
    "best_result = fmin(\n",
    "        fn=objective, \n",
    "        space=search_space,\n",
    "        algo=algo,\n",
    "        max_evals=32,\n",
    "        trials=trials)"
   ]
  },
  {
   "cell_type": "code",
   "execution_count": 20,
   "metadata": {},
   "outputs": [
    {
     "data": {
      "text/plain": [
       "{'classifier_type': 1,\n",
       " 'criterion': 0,\n",
       " 'rf_max_features': 2,\n",
       " 'rf_n_estimators': 57}"
      ]
     },
     "execution_count": 20,
     "metadata": {},
     "output_type": "execute_result"
    }
   ],
   "source": [
    "best_result"
   ]
  },
  {
   "attachments": {},
   "cell_type": "markdown",
   "metadata": {},
   "source": [
    "### Using Autologging\n",
    "\n",
    "Rather than manually logging parameters and metrics, mlflow has an autolog feature, which is compatible with a subset of python libraries, such as sklearn. Autologging makes it easy to log all of the important stuff, without having to manually write lines of code to log the parameters. However, sometimes you will want to have finer control over what gets logged, and should instead skip autologging."
   ]
  },
  {
   "cell_type": "code",
   "execution_count": 21,
   "metadata": {},
   "outputs": [
    {
     "name": "stderr",
     "output_type": "stream",
     "text": [
      "2025/04/17 21:33:34 INFO mlflow.tracking._tracking_service.client: 🏃 View run bittersweet-roo-957 at: https://mlflow-server1-759416646959.us-west2.run.app/#/experiments/1/runs/c5d18b3582e74b1380ada90dbf20273d.\n",
      "2025/04/17 21:33:34 INFO mlflow.tracking._tracking_service.client: 🧪 View experiment at: https://mlflow-server1-759416646959.us-west2.run.app/#/experiments/1.\n"
     ]
    }
   ],
   "source": [
    "with mlflow.start_run():\n",
    "    mlflow.sklearn.autolog()\n",
    "    tree_depth = 5\n",
    "    dt = DecisionTreeClassifier(max_depth=tree_depth)\n",
    "    dt.fit(X_train, y_train)\n",
    "    mlflow.sklearn.autolog(disable=True)\n",
    "mlflow.end_run()"
   ]
  },
  {
   "cell_type": "code",
   "execution_count": 22,
   "metadata": {},
   "outputs": [
    {
     "name": "stderr",
     "output_type": "stream",
     "text": [
      "2025/04/17 21:33:39 INFO mlflow.tracking._tracking_service.client: 🏃 View run sneaky-duck-134 at: https://mlflow-server1-759416646959.us-west2.run.app/#/experiments/1/runs/8b018d2cfe3d4b39922875f02f4a0c81.\n",
      "2025/04/17 21:33:39 INFO mlflow.tracking._tracking_service.client: 🧪 View experiment at: https://mlflow-server1-759416646959.us-west2.run.app/#/experiments/1.\n"
     ]
    }
   ],
   "source": [
    "# Enable autologging at the beginning, before starting any runs\n",
    "mlflow.sklearn.autolog()\n",
    "\n",
    "# Then start your run and fit the model\n",
    "with mlflow.start_run():\n",
    "    tree_depth = 5\n",
    "    dt = DecisionTreeClassifier(max_depth=tree_depth)\n",
    "    dt.fit(X_train, y_train)\n",
    "    \n",
    "# Disable autologging after the run if needed\n",
    "mlflow.sklearn.autolog(disable=True)"
   ]
  },
  {
   "attachments": {},
   "cell_type": "markdown",
   "metadata": {},
   "source": [
    "# Artifact Tracking and Model Registry (Local)\n",
    "\n",
    "In this section we will save some artifacts from our model as we go through the model development process. There are a few things that might be worth saving, such as datasets, plots, and the final model itself that might go into production later.\n",
    "\n",
    "## Data\n",
    "\n",
    "First, let's see how we can store our important datasets, in a compressed format, for use for later, for example, in case we get a new request about our model and need to run some analyses (such as \"what is the distribution of this feature, but only for this specific subset of data?\" or \"how did the model do on these particular observations from your validation set?\")."
   ]
  },
  {
   "cell_type": "code",
   "execution_count": null,
   "metadata": {},
   "outputs": [],
   "source": []
  },
  {
   "cell_type": "code",
   "execution_count": 23,
   "metadata": {},
   "outputs": [],
   "source": [
    "import os \n",
    "\n",
    "os.makedirs('save_data', exist_ok = True)\n",
    "\n",
    "X_train.to_parquet('save_data/x_train.parquet')\n",
    "\n",
    "mlflow.log_artifact('save_data/x_train.parquet')"
   ]
  },
  {
   "cell_type": "code",
   "execution_count": 24,
   "metadata": {},
   "outputs": [],
   "source": [
    "X_test.to_parquet('save_data/x_test.parquet')\n",
    "\n",
    "mlflow.log_artifacts('save_data/')"
   ]
  },
  {
   "attachments": {
    "mlflow1.png": {
     "image/png": "[encoded data removed]"
    }
   },
   "cell_type": "markdown",
   "metadata": {},
   "source": [
    "You can now go to the mlflow UI, click on the latest run, and select the Artifacts tab. You should see something similar to this:\n",
    "![mlflow1.png](attachment:mlflow1.png)"
   ]
  },
  {
   "attachments": {},
   "cell_type": "markdown",
   "metadata": {},
   "source": [
    "## Images\n",
    "\n",
    "As part of the model dev process you may end up creating visualizations that can be useful for analysis, or for reporting. You can use mlflow to log the important ones and ignore the rest. After creating the below figure, save into a folder called images, and then you can log whatever is in the `images` folder as an artifact."
   ]
  },
  {
   "cell_type": "code",
   "execution_count": 25,
   "metadata": {},
   "outputs": [
    {
     "data": {
      "text/plain": [
       "array([[<Axes: ylabel='Density'>, <Axes: ylabel='Density'>,\n",
       "        <Axes: ylabel='Density'>, <Axes: ylabel='Density'>],\n",
       "       [<Axes: ylabel='Density'>, <Axes: ylabel='Density'>,\n",
       "        <Axes: ylabel='Density'>, <Axes: ylabel='Density'>],\n",
       "       [<Axes: ylabel='Density'>, <Axes: ylabel='Density'>,\n",
       "        <Axes: ylabel='Density'>, <Axes: ylabel='Density'>],\n",
       "       [<Axes: ylabel='Density'>, <Axes: ylabel='Density'>,\n",
       "        <Axes: ylabel='Density'>, <Axes: ylabel='Density'>]], dtype=object)"
      ]
     },
     "execution_count": 25,
     "metadata": {},
     "output_type": "execute_result"
    },
    {
     "data": {
      "image/png": "[encoded data removed]",
      "text/plain": [
       "<Figure size 2000x1000 with 16 Axes>"
      ]
     },
     "metadata": {},
     "output_type": "display_data"
    }
   ],
   "source": [
    "%matplotlib inline\n",
    "os.makedirs('images', exist_ok = True)\n",
    "X_train.plot.density(subplots = True, figsize = (20,10), layout = (4,4), sharey = False, sharex = False)"
   ]
  },
  {
   "cell_type": "code",
   "execution_count": 26,
   "metadata": {},
   "outputs": [
    {
     "name": "stderr",
     "output_type": "stream",
     "text": [
      "2025/04/17 21:33:41 INFO mlflow.tracking._tracking_service.client: 🏃 View run aged-panda-598 at: https://mlflow-server1-759416646959.us-west2.run.app/#/experiments/1/runs/08e81a2ccea94edda689222ce81825d9.\n",
      "2025/04/17 21:33:41 INFO mlflow.tracking._tracking_service.client: 🧪 View experiment at: https://mlflow-server1-759416646959.us-west2.run.app/#/experiments/1.\n"
     ]
    }
   ],
   "source": [
    "mlflow.log_artifacts('images')\n",
    "mlflow.end_run()"
   ]
  },
  {
   "attachments": {},
   "cell_type": "markdown",
   "metadata": {},
   "source": [
    "Notice how all of the artifacts were saved in the same run of the experiment. We could have added an `mlflow.end_run()` in between our `log_artifacts` lines to separate runs if we wanted to."
   ]
  },
  {
   "attachments": {},
   "cell_type": "markdown",
   "metadata": {},
   "source": [
    "## Model Management and Model Registry\n",
    "\n",
    "As you are developing your models you may want to save certain versions of the model, or maybe even all of them, so that you don't have to go back and retrain them later. We can do this in mlflow by logging the models, not as artifacts, but as models, using `log_model`. \n",
    "\n",
    "In this section we'll log a couple of models to see how mlflow handles model management. Above, we used `hyperopt` to train a bunch of models at once. Let's do this again, and log some of the models that we train.\n",
    "\n",
    "### Logging as an Artifact\n",
    "\n",
    "First we can try logging a model as an artifact. To do this, we must first save the model itself, which we can do by using the `pickle` library. We then log the model as an artifact like we did with data and images. "
   ]
  },
  {
   "cell_type": "code",
   "execution_count": 27,
   "metadata": {},
   "outputs": [],
   "source": [
    "import pickle\n",
    "\n",
    "os.makedirs('../models', exist_ok = True)\n",
    "\n",
    "dt = DecisionTreeClassifier()\n",
    "dt.fit(X_train, y_train)\n",
    "\n",
    "with open('../models/model.pkl','wb') as f:\n",
    "    pickle.dump(dt,f)\n",
    "\n",
    "# First we'll log the model as an artifact\n",
    "mlflow.log_artifact('../models/model.pkl', artifact_path='my_models')"
   ]
  },
  {
   "attachments": {},
   "cell_type": "markdown",
   "metadata": {},
   "source": [
    "### Logging as a Model\n",
    "\n",
    "Logging the model as an artifact only logs the pickle file (the serialized version of the model). It's not really very useful, especially since models contain so much metadata that might be critical to know for deploying the model later. mlflow has a built-in way of logging models specifically, so let's see how to use this, and how it's different from logging models as an artifact."
   ]
  },
  {
   "cell_type": "code",
   "execution_count": 28,
   "metadata": {},
   "outputs": [
    {
     "name": "stderr",
     "output_type": "stream",
     "text": [
      "2025/04/17 21:33:44 WARNING mlflow.models.model: Input example should be provided to infer model signature if the model signature is not provided when logging the model.\n",
      "2025/04/17 21:33:44 INFO mlflow.tracking._tracking_service.client: 🏃 View run stately-doe-783 at: https://mlflow-server1-759416646959.us-west2.run.app/#/experiments/1/runs/1c8cb0eb58434daca67c89193d993c1c.\n",
      "2025/04/17 21:33:44 INFO mlflow.tracking._tracking_service.client: 🧪 View experiment at: https://mlflow-server1-759416646959.us-west2.run.app/#/experiments/1.\n"
     ]
    }
   ],
   "source": [
    "# Let's do it again, but this time we will log the model using log_model\n",
    "mlflow.sklearn.log_model(dt, artifact_path = 'better_models')\n",
    "mlflow.end_run()"
   ]
  },
  {
   "attachments": {
    "mlflow2.png": {
     "image/png": "[encoded data removed]"
    }
   },
   "cell_type": "markdown",
   "metadata": {},
   "source": [
    "Ok, so if you go to the mlflow UI at this point you can see the difference in `log_artifact`, which simply logs the pickle file, and `log_model`, which also gives you information about the environment, required packages, and model flavor.\n",
    "\n",
    "![mlflow2.png](attachment:mlflow2.png)\n",
    "\n",
    "Let's do this one more time, but this time let's use `hyperopt` and log all of the trained models separately. Let's do this in a new experiment called 'demo-experiment2'. "
   ]
  },
  {
   "cell_type": "code",
   "execution_count": 29,
   "metadata": {},
   "outputs": [
    {
     "name": "stderr",
     "output_type": "stream",
     "text": [
      "2025/04/17 21:33:44 INFO mlflow.tracking.fluent: Experiment with name 'demo-experiment2' does not exist. Creating a new experiment.\n"
     ]
    },
    {
     "name": "stdout",
     "output_type": "stream",
     "text": [
      "  0%|          | 0/32 [00:00<?, ?trial/s, best loss=?]"
     ]
    },
    {
     "name": "stderr",
     "output_type": "stream",
     "text": [
      "2025/04/17 21:33:48 WARNING mlflow.models.model: Input example should be provided to infer model signature if the model signature is not provided when logging the model.\n",
      "\n",
      "2025/04/17 21:33:48 INFO mlflow.tracking._tracking_service.client: 🏃 View run nebulous-duck-843 at: https://mlflow-server1-759416646959.us-west2.run.app/#/experiments/2/runs/830ac32886024ed0989668bc2ef481fe.\n",
      "\n",
      "2025/04/17 21:33:48 INFO mlflow.tracking._tracking_service.client: 🧪 View experiment at: https://mlflow-server1-759416646959.us-west2.run.app/#/experiments/2.\n",
      "\n"
     ]
    },
    {
     "name": "stdout",
     "output_type": "stream",
     "text": [
      "  3%|▎         | 1/32 [00:03<01:41,  3.28s/trial, best loss: -0.9103174603174604]"
     ]
    },
    {
     "name": "stderr",
     "output_type": "stream",
     "text": [
      "2025/04/17 21:33:51 WARNING mlflow.models.model: Input example should be provided to infer model signature if the model signature is not provided when logging the model.\n",
      "\n",
      "2025/04/17 21:33:51 INFO mlflow.tracking._tracking_service.client: 🏃 View run gentle-snipe-604 at: https://mlflow-server1-759416646959.us-west2.run.app/#/experiments/2/runs/696f6704a3624b9caadcdbf9f3124927.\n",
      "\n",
      "2025/04/17 21:33:51 INFO mlflow.tracking._tracking_service.client: 🧪 View experiment at: https://mlflow-server1-759416646959.us-west2.run.app/#/experiments/2.\n",
      "\n"
     ]
    },
    {
     "name": "stdout",
     "output_type": "stream",
     "text": [
      "  6%|▋         | 2/32 [00:06<01:38,  3.30s/trial, best loss: -0.9103174603174604]"
     ]
    },
    {
     "name": "stderr",
     "output_type": "stream",
     "text": [
      "2025/04/17 21:33:55 WARNING mlflow.models.model: Input example should be provided to infer model signature if the model signature is not provided when logging the model.\n",
      "\n",
      "2025/04/17 21:33:55 INFO mlflow.tracking._tracking_service.client: 🏃 View run capable-carp-959 at: https://mlflow-server1-759416646959.us-west2.run.app/#/experiments/2/runs/b54a381ce0184be1885cbf2e1d13818f.\n",
      "\n",
      "2025/04/17 21:33:55 INFO mlflow.tracking._tracking_service.client: 🧪 View experiment at: https://mlflow-server1-759416646959.us-west2.run.app/#/experiments/2.\n",
      "\n"
     ]
    },
    {
     "name": "stdout",
     "output_type": "stream",
     "text": [
      "  9%|▉         | 3/32 [00:10<01:39,  3.43s/trial, best loss: -0.9103174603174604]"
     ]
    },
    {
     "name": "stderr",
     "output_type": "stream",
     "text": [
      "2025/04/17 21:33:58 WARNING mlflow.models.model: Input example should be provided to infer model signature if the model signature is not provided when logging the model.\n",
      "\n",
      "2025/04/17 21:33:58 INFO mlflow.tracking._tracking_service.client: 🏃 View run crawling-sheep-644 at: https://mlflow-server1-759416646959.us-west2.run.app/#/experiments/2/runs/462a68c4bb9a4c9cb6fcedadd00f21a7.\n",
      "\n",
      "2025/04/17 21:33:58 INFO mlflow.tracking._tracking_service.client: 🧪 View experiment at: https://mlflow-server1-759416646959.us-west2.run.app/#/experiments/2.\n",
      "\n"
     ]
    },
    {
     "name": "stdout",
     "output_type": "stream",
     "text": [
      " 12%|█▎        | 4/32 [00:13<01:40,  3.57s/trial, best loss: -0.9665079365079364]"
     ]
    },
    {
     "name": "stderr",
     "output_type": "stream",
     "text": [
      "2025/04/17 21:34:02 WARNING mlflow.models.model: Input example should be provided to infer model signature if the model signature is not provided when logging the model.\n",
      "\n",
      "2025/04/17 21:34:02 INFO mlflow.tracking._tracking_service.client: 🏃 View run auspicious-ram-826 at: https://mlflow-server1-759416646959.us-west2.run.app/#/experiments/2/runs/25fc2b0d600648cc9d9717fd3cfde8e0.\n",
      "\n",
      "2025/04/17 21:34:02 INFO mlflow.tracking._tracking_service.client: 🧪 View experiment at: https://mlflow-server1-759416646959.us-west2.run.app/#/experiments/2.\n",
      "\n"
     ]
    },
    {
     "name": "stdout",
     "output_type": "stream",
     "text": [
      " 16%|█▌        | 5/32 [00:17<01:34,  3.52s/trial, best loss: -0.9665079365079364]"
     ]
    },
    {
     "name": "stderr",
     "output_type": "stream",
     "text": [
      "2025/04/17 21:34:06 WARNING mlflow.models.model: Input example should be provided to infer model signature if the model signature is not provided when logging the model.\n",
      "\n",
      "2025/04/17 21:34:06 INFO mlflow.tracking._tracking_service.client: 🏃 View run awesome-stoat-416 at: https://mlflow-server1-759416646959.us-west2.run.app/#/experiments/2/runs/a7699b395191481894ac29dc7c77046c.\n",
      "\n",
      "2025/04/17 21:34:06 INFO mlflow.tracking._tracking_service.client: 🧪 View experiment at: https://mlflow-server1-759416646959.us-west2.run.app/#/experiments/2.\n",
      "\n"
     ]
    },
    {
     "name": "stdout",
     "output_type": "stream",
     "text": [
      " 19%|█▉        | 6/32 [00:21<01:36,  3.70s/trial, best loss: -0.9777777777777779]"
     ]
    },
    {
     "name": "stderr",
     "output_type": "stream",
     "text": [
      "2025/04/17 21:34:09 WARNING mlflow.models.model: Input example should be provided to infer model signature if the model signature is not provided when logging the model.\n",
      "\n",
      "2025/04/17 21:34:09 INFO mlflow.tracking._tracking_service.client: 🏃 View run brawny-hawk-515 at: https://mlflow-server1-759416646959.us-west2.run.app/#/experiments/2/runs/0022667bf39244d0b43c8405b5ab655e.\n",
      "\n",
      "2025/04/17 21:34:09 INFO mlflow.tracking._tracking_service.client: 🧪 View experiment at: https://mlflow-server1-759416646959.us-west2.run.app/#/experiments/2.\n",
      "\n"
     ]
    },
    {
     "name": "stdout",
     "output_type": "stream",
     "text": [
      " 22%|██▏       | 7/32 [00:24<01:29,  3.57s/trial, best loss: -0.9777777777777779]"
     ]
    },
    {
     "name": "stderr",
     "output_type": "stream",
     "text": [
      "2025/04/17 21:34:13 WARNING mlflow.models.model: Input example should be provided to infer model signature if the model signature is not provided when logging the model.\n",
      "\n",
      "2025/04/17 21:34:13 INFO mlflow.tracking._tracking_service.client: 🏃 View run stately-lamb-20 at: https://mlflow-server1-759416646959.us-west2.run.app/#/experiments/2/runs/b730a6d75fd54269841071df8823cf37.\n",
      "\n",
      "2025/04/17 21:34:13 INFO mlflow.tracking._tracking_service.client: 🧪 View experiment at: https://mlflow-server1-759416646959.us-west2.run.app/#/experiments/2.\n",
      "\n"
     ]
    },
    {
     "name": "stdout",
     "output_type": "stream",
     "text": [
      " 25%|██▌       | 8/32 [00:28<01:24,  3.52s/trial, best loss: -0.9777777777777779]"
     ]
    },
    {
     "name": "stderr",
     "output_type": "stream",
     "text": [
      "2025/04/17 21:34:17 WARNING mlflow.models.model: Input example should be provided to infer model signature if the model signature is not provided when logging the model.\n",
      "\n",
      "2025/04/17 21:34:17 INFO mlflow.tracking._tracking_service.client: 🏃 View run glamorous-slug-963 at: https://mlflow-server1-759416646959.us-west2.run.app/#/experiments/2/runs/bff933284b5d498e8f2f2a5d0d0ee5d2.\n",
      "\n",
      "2025/04/17 21:34:17 INFO mlflow.tracking._tracking_service.client: 🧪 View experiment at: https://mlflow-server1-759416646959.us-west2.run.app/#/experiments/2.\n",
      "\n"
     ]
    },
    {
     "name": "stdout",
     "output_type": "stream",
     "text": [
      " 28%|██▊       | 9/32 [00:32<01:29,  3.88s/trial, best loss: -0.9777777777777779]"
     ]
    },
    {
     "name": "stderr",
     "output_type": "stream",
     "text": [
      "2025/04/17 21:34:21 WARNING mlflow.models.model: Input example should be provided to infer model signature if the model signature is not provided when logging the model.\n",
      "\n",
      "2025/04/17 21:34:21 INFO mlflow.tracking._tracking_service.client: 🏃 View run agreeable-shark-146 at: https://mlflow-server1-759416646959.us-west2.run.app/#/experiments/2/runs/e24b2df6a59d4636a5d09ac4ee52912c.\n",
      "\n",
      "2025/04/17 21:34:21 INFO mlflow.tracking._tracking_service.client: 🧪 View experiment at: https://mlflow-server1-759416646959.us-west2.run.app/#/experiments/2.\n",
      "\n"
     ]
    },
    {
     "name": "stdout",
     "output_type": "stream",
     "text": [
      " 31%|███▏      | 10/32 [00:36<01:22,  3.76s/trial, best loss: -0.9777777777777779]"
     ]
    },
    {
     "name": "stderr",
     "output_type": "stream",
     "text": [
      "2025/04/17 21:34:32 WARNING mlflow.models.model: Input example should be provided to infer model signature if the model signature is not provided when logging the model.\n",
      "\n",
      "2025/04/17 21:34:33 INFO mlflow.tracking._tracking_service.client: 🏃 View run merciful-horse-895 at: https://mlflow-server1-759416646959.us-west2.run.app/#/experiments/2/runs/20a63df2926c4ef0898e390fa70b95f0.\n",
      "\n",
      "2025/04/17 21:34:33 INFO mlflow.tracking._tracking_service.client: 🧪 View experiment at: https://mlflow-server1-759416646959.us-west2.run.app/#/experiments/2.\n",
      "\n"
     ]
    },
    {
     "name": "stdout",
     "output_type": "stream",
     "text": [
      " 34%|███▍      | 11/32 [00:48<02:13,  6.35s/trial, best loss: -0.9777777777777779]"
     ]
    },
    {
     "name": "stderr",
     "output_type": "stream",
     "text": [
      "2025/04/17 21:34:38 WARNING mlflow.models.model: Input example should be provided to infer model signature if the model signature is not provided when logging the model.\n",
      "\n",
      "2025/04/17 21:34:39 INFO mlflow.tracking._tracking_service.client: 🏃 View run luminous-turtle-549 at: https://mlflow-server1-759416646959.us-west2.run.app/#/experiments/2/runs/5671b2070ff142ef8964112877d1a043.\n",
      "\n",
      "2025/04/17 21:34:39 INFO mlflow.tracking._tracking_service.client: 🧪 View experiment at: https://mlflow-server1-759416646959.us-west2.run.app/#/experiments/2.\n",
      "\n"
     ]
    },
    {
     "name": "stdout",
     "output_type": "stream",
     "text": [
      " 38%|███▊      | 12/32 [00:54<02:01,  6.08s/trial, best loss: -0.9777777777777779]"
     ]
    },
    {
     "name": "stderr",
     "output_type": "stream",
     "text": [
      "2025/04/17 21:34:42 WARNING mlflow.models.model: Input example should be provided to infer model signature if the model signature is not provided when logging the model.\n",
      "\n",
      "2025/04/17 21:34:42 INFO mlflow.tracking._tracking_service.client: 🏃 View run colorful-slug-678 at: https://mlflow-server1-759416646959.us-west2.run.app/#/experiments/2/runs/3a13087afce3454fa113a54891a1fc9d.\n",
      "\n",
      "2025/04/17 21:34:42 INFO mlflow.tracking._tracking_service.client: 🧪 View experiment at: https://mlflow-server1-759416646959.us-west2.run.app/#/experiments/2.\n",
      "\n"
     ]
    },
    {
     "name": "stdout",
     "output_type": "stream",
     "text": [
      " 41%|████      | 13/32 [00:57<01:42,  5.42s/trial, best loss: -0.9777777777777779]"
     ]
    },
    {
     "name": "stderr",
     "output_type": "stream",
     "text": [
      "2025/04/17 21:34:46 WARNING mlflow.models.model: Input example should be provided to infer model signature if the model signature is not provided when logging the model.\n",
      "\n",
      "2025/04/17 21:34:46 INFO mlflow.tracking._tracking_service.client: 🏃 View run bouncy-jay-135 at: https://mlflow-server1-759416646959.us-west2.run.app/#/experiments/2/runs/f701207fc411442eb95b72bd5da79f1f.\n",
      "\n",
      "2025/04/17 21:34:46 INFO mlflow.tracking._tracking_service.client: 🧪 View experiment at: https://mlflow-server1-759416646959.us-west2.run.app/#/experiments/2.\n",
      "\n"
     ]
    },
    {
     "name": "stdout",
     "output_type": "stream",
     "text": [
      " 44%|████▍     | 14/32 [01:01<01:26,  4.83s/trial, best loss: -0.9777777777777779]"
     ]
    },
    {
     "name": "stderr",
     "output_type": "stream",
     "text": [
      "2025/04/17 21:34:50 WARNING mlflow.models.model: Input example should be provided to infer model signature if the model signature is not provided when logging the model.\n",
      "\n",
      "2025/04/17 21:34:50 INFO mlflow.tracking._tracking_service.client: 🏃 View run vaunted-panda-207 at: https://mlflow-server1-759416646959.us-west2.run.app/#/experiments/2/runs/053829319b324c959b737349717b3f35.\n",
      "\n",
      "2025/04/17 21:34:50 INFO mlflow.tracking._tracking_service.client: 🧪 View experiment at: https://mlflow-server1-759416646959.us-west2.run.app/#/experiments/2.\n",
      "\n"
     ]
    },
    {
     "name": "stdout",
     "output_type": "stream",
     "text": [
      " 47%|████▋     | 15/32 [01:05<01:20,  4.73s/trial, best loss: -0.9777777777777779]"
     ]
    },
    {
     "name": "stderr",
     "output_type": "stream",
     "text": [
      "2025/04/17 21:34:54 WARNING mlflow.models.model: Input example should be provided to infer model signature if the model signature is not provided when logging the model.\n",
      "\n",
      "2025/04/17 21:34:54 INFO mlflow.tracking._tracking_service.client: 🏃 View run gifted-midge-942 at: https://mlflow-server1-759416646959.us-west2.run.app/#/experiments/2/runs/652319ebe8e2484290a1a57a77740c16.\n",
      "\n",
      "2025/04/17 21:34:54 INFO mlflow.tracking._tracking_service.client: 🧪 View experiment at: https://mlflow-server1-759416646959.us-west2.run.app/#/experiments/2.\n",
      "\n"
     ]
    },
    {
     "name": "stdout",
     "output_type": "stream",
     "text": [
      " 50%|█████     | 16/32 [01:09<01:09,  4.35s/trial, best loss: -0.9777777777777779]"
     ]
    },
    {
     "name": "stderr",
     "output_type": "stream",
     "text": [
      "2025/04/17 21:34:59 WARNING mlflow.models.model: Input example should be provided to infer model signature if the model signature is not provided when logging the model.\n",
      "\n",
      "2025/04/17 21:34:59 INFO mlflow.tracking._tracking_service.client: 🏃 View run bustling-zebra-788 at: https://mlflow-server1-759416646959.us-west2.run.app/#/experiments/2/runs/3a7602209e4e4d0daabce5240da68685.\n",
      "\n",
      "2025/04/17 21:34:59 INFO mlflow.tracking._tracking_service.client: 🧪 View experiment at: https://mlflow-server1-759416646959.us-west2.run.app/#/experiments/2.\n",
      "\n"
     ]
    },
    {
     "name": "stdout",
     "output_type": "stream",
     "text": [
      " 53%|█████▎    | 17/32 [01:14<01:07,  4.47s/trial, best loss: -0.9777777777777779]"
     ]
    },
    {
     "name": "stderr",
     "output_type": "stream",
     "text": [
      "2025/04/17 21:35:02 WARNING mlflow.models.model: Input example should be provided to infer model signature if the model signature is not provided when logging the model.\n",
      "\n",
      "2025/04/17 21:35:02 INFO mlflow.tracking._tracking_service.client: 🏃 View run honorable-wren-798 at: https://mlflow-server1-759416646959.us-west2.run.app/#/experiments/2/runs/1c7b2bb4469c4a5c9062f548d56f6cdf.\n",
      "\n",
      "2025/04/17 21:35:02 INFO mlflow.tracking._tracking_service.client: 🧪 View experiment at: https://mlflow-server1-759416646959.us-west2.run.app/#/experiments/2.\n",
      "\n"
     ]
    },
    {
     "name": "stdout",
     "output_type": "stream",
     "text": [
      " 56%|█████▋    | 18/32 [01:17<00:57,  4.12s/trial, best loss: -0.9777777777777779]"
     ]
    },
    {
     "name": "stderr",
     "output_type": "stream",
     "text": [
      "2025/04/17 21:35:05 WARNING mlflow.models.model: Input example should be provided to infer model signature if the model signature is not provided when logging the model.\n",
      "\n",
      "2025/04/17 21:35:05 INFO mlflow.tracking._tracking_service.client: 🏃 View run gregarious-koi-370 at: https://mlflow-server1-759416646959.us-west2.run.app/#/experiments/2/runs/226527178c94417a89b01186f7bbe61b.\n",
      "\n",
      "2025/04/17 21:35:05 INFO mlflow.tracking._tracking_service.client: 🧪 View experiment at: https://mlflow-server1-759416646959.us-west2.run.app/#/experiments/2.\n",
      "\n"
     ]
    },
    {
     "name": "stdout",
     "output_type": "stream",
     "text": [
      " 59%|█████▉    | 19/32 [01:20<00:50,  3.87s/trial, best loss: -0.9777777777777779]"
     ]
    },
    {
     "name": "stderr",
     "output_type": "stream",
     "text": [
      "2025/04/17 21:35:10 WARNING mlflow.models.model: Input example should be provided to infer model signature if the model signature is not provided when logging the model.\n",
      "\n",
      "2025/04/17 21:35:10 INFO mlflow.tracking._tracking_service.client: 🏃 View run carefree-chimp-982 at: https://mlflow-server1-759416646959.us-west2.run.app/#/experiments/2/runs/2d0ee42f65254b96a68e2f0e9adcba03.\n",
      "\n",
      "2025/04/17 21:35:10 INFO mlflow.tracking._tracking_service.client: 🧪 View experiment at: https://mlflow-server1-759416646959.us-west2.run.app/#/experiments/2.\n",
      "\n"
     ]
    },
    {
     "name": "stdout",
     "output_type": "stream",
     "text": [
      " 62%|██████▎   | 20/32 [01:25<00:49,  4.14s/trial, best loss: -0.9777777777777779]"
     ]
    },
    {
     "name": "stderr",
     "output_type": "stream",
     "text": [
      "2025/04/17 21:35:14 WARNING mlflow.models.model: Input example should be provided to infer model signature if the model signature is not provided when logging the model.\n",
      "\n",
      "2025/04/17 21:35:14 INFO mlflow.tracking._tracking_service.client: 🏃 View run abrasive-mouse-748 at: https://mlflow-server1-759416646959.us-west2.run.app/#/experiments/2/runs/5f5506b0dab04a75a9dd5e120498ae13.\n",
      "\n",
      "2025/04/17 21:35:14 INFO mlflow.tracking._tracking_service.client: 🧪 View experiment at: https://mlflow-server1-759416646959.us-west2.run.app/#/experiments/2.\n",
      "\n"
     ]
    },
    {
     "name": "stdout",
     "output_type": "stream",
     "text": [
      " 66%|██████▌   | 21/32 [01:29<00:43,  3.98s/trial, best loss: -0.9777777777777779]"
     ]
    },
    {
     "name": "stderr",
     "output_type": "stream",
     "text": [
      "2025/04/17 21:35:20 WARNING mlflow.models.model: Input example should be provided to infer model signature if the model signature is not provided when logging the model.\n",
      "\n",
      "2025/04/17 21:35:20 INFO mlflow.tracking._tracking_service.client: 🏃 View run gaudy-lynx-945 at: https://mlflow-server1-759416646959.us-west2.run.app/#/experiments/2/runs/f19a266a5a9845368470cfa9e5e0baa8.\n",
      "\n",
      "2025/04/17 21:35:20 INFO mlflow.tracking._tracking_service.client: 🧪 View experiment at: https://mlflow-server1-759416646959.us-west2.run.app/#/experiments/2.\n",
      "\n"
     ]
    },
    {
     "name": "stdout",
     "output_type": "stream",
     "text": [
      " 69%|██████▉   | 22/32 [01:35<00:48,  4.83s/trial, best loss: -0.9777777777777779]"
     ]
    },
    {
     "name": "stderr",
     "output_type": "stream",
     "text": [
      "2025/04/17 21:35:25 WARNING mlflow.models.model: Input example should be provided to infer model signature if the model signature is not provided when logging the model.\n",
      "\n",
      "2025/04/17 21:35:25 INFO mlflow.tracking._tracking_service.client: 🏃 View run big-dolphin-858 at: https://mlflow-server1-759416646959.us-west2.run.app/#/experiments/2/runs/5a0d3dcca7174eb78640a0552d66b860.\n",
      "\n",
      "2025/04/17 21:35:25 INFO mlflow.tracking._tracking_service.client: 🧪 View experiment at: https://mlflow-server1-759416646959.us-west2.run.app/#/experiments/2.\n",
      "\n"
     ]
    },
    {
     "name": "stdout",
     "output_type": "stream",
     "text": [
      " 72%|███████▏  | 23/32 [01:40<00:43,  4.79s/trial, best loss: -0.9777777777777779]"
     ]
    },
    {
     "name": "stderr",
     "output_type": "stream",
     "text": [
      "2025/04/17 21:35:31 WARNING mlflow.models.model: Input example should be provided to infer model signature if the model signature is not provided when logging the model.\n",
      "\n",
      "2025/04/17 21:35:31 INFO mlflow.tracking._tracking_service.client: 🏃 View run persistent-moose-110 at: https://mlflow-server1-759416646959.us-west2.run.app/#/experiments/2/runs/8b6d00766ec14a19b63c830a2529a213.\n",
      "\n",
      "2025/04/17 21:35:31 INFO mlflow.tracking._tracking_service.client: 🧪 View experiment at: https://mlflow-server1-759416646959.us-west2.run.app/#/experiments/2.\n",
      "\n"
     ]
    },
    {
     "name": "stdout",
     "output_type": "stream",
     "text": [
      " 75%|███████▌  | 24/32 [01:46<00:40,  5.08s/trial, best loss: -0.9777777777777779]"
     ]
    },
    {
     "name": "stderr",
     "output_type": "stream",
     "text": [
      "2025/04/17 21:35:35 WARNING mlflow.models.model: Input example should be provided to infer model signature if the model signature is not provided when logging the model.\n",
      "\n",
      "2025/04/17 21:35:35 INFO mlflow.tracking._tracking_service.client: 🏃 View run unique-hound-44 at: https://mlflow-server1-759416646959.us-west2.run.app/#/experiments/2/runs/56961b543d2d46aa822ed621f7f1b530.\n",
      "\n",
      "2025/04/17 21:35:35 INFO mlflow.tracking._tracking_service.client: 🧪 View experiment at: https://mlflow-server1-759416646959.us-west2.run.app/#/experiments/2.\n",
      "\n"
     ]
    },
    {
     "name": "stdout",
     "output_type": "stream",
     "text": [
      " 78%|███████▊  | 25/32 [01:50<00:33,  4.82s/trial, best loss: -0.9777777777777779]"
     ]
    },
    {
     "name": "stderr",
     "output_type": "stream",
     "text": [
      "2025/04/17 21:35:40 WARNING mlflow.models.model: Input example should be provided to infer model signature if the model signature is not provided when logging the model.\n",
      "\n",
      "2025/04/17 21:35:40 INFO mlflow.tracking._tracking_service.client: 🏃 View run tasteful-koi-930 at: https://mlflow-server1-759416646959.us-west2.run.app/#/experiments/2/runs/e0534042917745259347d7676a72f09d.\n",
      "\n",
      "2025/04/17 21:35:40 INFO mlflow.tracking._tracking_service.client: 🧪 View experiment at: https://mlflow-server1-759416646959.us-west2.run.app/#/experiments/2.\n",
      "\n"
     ]
    },
    {
     "name": "stdout",
     "output_type": "stream",
     "text": [
      " 81%|████████▏ | 26/32 [01:55<00:29,  4.90s/trial, best loss: -0.9777777777777779]"
     ]
    },
    {
     "name": "stderr",
     "output_type": "stream",
     "text": [
      "2025/04/17 21:35:44 WARNING mlflow.models.model: Input example should be provided to infer model signature if the model signature is not provided when logging the model.\n",
      "\n",
      "2025/04/17 21:35:45 INFO mlflow.tracking._tracking_service.client: 🏃 View run able-bug-716 at: https://mlflow-server1-759416646959.us-west2.run.app/#/experiments/2/runs/4bb5d54b296c46c0b005a5e8223497a6.\n",
      "\n",
      "2025/04/17 21:35:45 INFO mlflow.tracking._tracking_service.client: 🧪 View experiment at: https://mlflow-server1-759416646959.us-west2.run.app/#/experiments/2.\n",
      "\n"
     ]
    },
    {
     "name": "stdout",
     "output_type": "stream",
     "text": [
      " 84%|████████▍ | 27/32 [01:59<00:23,  4.74s/trial, best loss: -0.9833333333333332]"
     ]
    },
    {
     "name": "stderr",
     "output_type": "stream",
     "text": [
      "2025/04/17 21:35:49 WARNING mlflow.models.model: Input example should be provided to infer model signature if the model signature is not provided when logging the model.\n",
      "\n",
      "2025/04/17 21:35:49 INFO mlflow.tracking._tracking_service.client: 🏃 View run painted-ox-470 at: https://mlflow-server1-759416646959.us-west2.run.app/#/experiments/2/runs/e78b71b69e9b484691939e347a552124.\n",
      "\n",
      "2025/04/17 21:35:49 INFO mlflow.tracking._tracking_service.client: 🧪 View experiment at: https://mlflow-server1-759416646959.us-west2.run.app/#/experiments/2.\n",
      "\n"
     ]
    },
    {
     "name": "stdout",
     "output_type": "stream",
     "text": [
      " 88%|████████▊ | 28/32 [02:04<00:18,  4.63s/trial, best loss: -0.9833333333333332]"
     ]
    },
    {
     "name": "stderr",
     "output_type": "stream",
     "text": [
      "2025/04/17 21:35:53 WARNING mlflow.models.model: Input example should be provided to infer model signature if the model signature is not provided when logging the model.\n",
      "\n",
      "2025/04/17 21:35:53 INFO mlflow.tracking._tracking_service.client: 🏃 View run gaudy-hawk-639 at: https://mlflow-server1-759416646959.us-west2.run.app/#/experiments/2/runs/b4a091d78ee04644a36496d97976b005.\n",
      "\n",
      "2025/04/17 21:35:53 INFO mlflow.tracking._tracking_service.client: 🧪 View experiment at: https://mlflow-server1-759416646959.us-west2.run.app/#/experiments/2.\n",
      "\n"
     ]
    },
    {
     "name": "stdout",
     "output_type": "stream",
     "text": [
      " 91%|█████████ | 29/32 [02:08<00:13,  4.41s/trial, best loss: -0.9833333333333332]"
     ]
    },
    {
     "name": "stderr",
     "output_type": "stream",
     "text": [
      "2025/04/17 21:35:57 WARNING mlflow.models.model: Input example should be provided to infer model signature if the model signature is not provided when logging the model.\n",
      "\n",
      "2025/04/17 21:35:57 INFO mlflow.tracking._tracking_service.client: 🏃 View run gregarious-goat-864 at: https://mlflow-server1-759416646959.us-west2.run.app/#/experiments/2/runs/9fb8f2d319d145c89c9c213e67741f0c.\n",
      "\n",
      "2025/04/17 21:35:57 INFO mlflow.tracking._tracking_service.client: 🧪 View experiment at: https://mlflow-server1-759416646959.us-west2.run.app/#/experiments/2.\n",
      "\n"
     ]
    },
    {
     "name": "stdout",
     "output_type": "stream",
     "text": [
      " 94%|█████████▍| 30/32 [02:12<00:08,  4.26s/trial, best loss: -0.9833333333333332]"
     ]
    },
    {
     "name": "stderr",
     "output_type": "stream",
     "text": [
      "2025/04/17 21:36:01 WARNING mlflow.models.model: Input example should be provided to infer model signature if the model signature is not provided when logging the model.\n",
      "\n",
      "2025/04/17 21:36:01 INFO mlflow.tracking._tracking_service.client: 🏃 View run nebulous-sloth-408 at: https://mlflow-server1-759416646959.us-west2.run.app/#/experiments/2/runs/4d4c8cd8a681435eb3c989cb8d46435f.\n",
      "\n",
      "2025/04/17 21:36:01 INFO mlflow.tracking._tracking_service.client: 🧪 View experiment at: https://mlflow-server1-759416646959.us-west2.run.app/#/experiments/2.\n",
      "\n"
     ]
    },
    {
     "name": "stdout",
     "output_type": "stream",
     "text": [
      " 97%|█████████▋| 31/32 [02:16<00:04,  4.25s/trial, best loss: -0.9833333333333332]"
     ]
    },
    {
     "name": "stderr",
     "output_type": "stream",
     "text": [
      "2025/04/17 21:36:06 WARNING mlflow.models.model: Input example should be provided to infer model signature if the model signature is not provided when logging the model.\n",
      "\n",
      "2025/04/17 21:36:06 INFO mlflow.tracking._tracking_service.client: 🏃 View run clean-jay-900 at: https://mlflow-server1-759416646959.us-west2.run.app/#/experiments/2/runs/98b7ed8ce8d94ca684407c1ec7b98104.\n",
      "\n",
      "2025/04/17 21:36:06 INFO mlflow.tracking._tracking_service.client: 🧪 View experiment at: https://mlflow-server1-759416646959.us-west2.run.app/#/experiments/2.\n",
      "\n"
     ]
    },
    {
     "name": "stdout",
     "output_type": "stream",
     "text": [
      "100%|██████████| 32/32 [02:21<00:00,  4.41s/trial, best loss: -0.9833333333333332]\n"
     ]
    }
   ],
   "source": [
    "mlflow.set_experiment('demo-experiment2')\n",
    "def objective(params):\n",
    "    with mlflow.start_run():\n",
    "        classifier_type = params['type']\n",
    "        del params['type']\n",
    "        if classifier_type == 'dt':\n",
    "            clf = DecisionTreeClassifier(**params)\n",
    "        elif classifier_type == 'rf':\n",
    "            clf = RandomForestClassifier(**params)        \n",
    "        else:\n",
    "            return 0\n",
    "        acc = cross_val_score(clf, X, y).mean()\n",
    "\n",
    "        mlflow.set_tag(\"Model\", classifier_type)\n",
    "        mlflow.log_params(params)\n",
    "        mlflow.log_metric(\"accuracy\", acc)\n",
    "        mlflow.sklearn.log_model(clf, artifact_path = 'better_models')\n",
    "        mlflow.end_run()\n",
    "        return {'loss': -acc, 'status': STATUS_OK}\n",
    "search_space = hp.choice('classifier_type', [\n",
    "    {\n",
    "        'type': 'dt',\n",
    "        'criterion': hp.choice('dtree_criterion', ['gini', 'entropy']),\n",
    "        'max_depth': hp.choice('dtree_max_depth', [None, hp.randint('dtree_max_depth_int', 1,10)]),\n",
    "        'min_samples_split': hp.randint('dtree_min_samples_split', 2,10)\n",
    "    },\n",
    "    {\n",
    "        'type': 'rf',\n",
    "        'n_estimators': hp.randint('rf_n_estimators', 20, 500),\n",
    "        'max_features': hp.randint('rf_max_features', 2,9),\n",
    "        'criterion': hp.choice('criterion', ['gini', 'entropy'])\n",
    "    },\n",
    "])\n",
    "\n",
    "algo = tpe.suggest\n",
    "trials = Trials()\n",
    "best_result = fmin(\n",
    "        fn=objective, \n",
    "        space=search_space,\n",
    "        algo=algo,\n",
    "        max_evals=32,\n",
    "        trials=trials)"
   ]
  },
  {
   "attachments": {},
   "cell_type": "markdown",
   "metadata": {},
   "source": [
    "### Loading Models\n",
    "\n",
    "Now that models have been logged, you can load specific models back into python for predicting and further analysis. There are two main ways to do this. The mlflow UI actually gives you some instructions, with code that you copy and paste."
   ]
  },
  {
   "cell_type": "code",
   "execution_count": 30,
   "metadata": {},
   "outputs": [],
   "source": [
    "# ."
   ]
  },
  {
   "cell_type": "code",
   "execution_count": 31,
   "metadata": {},
   "outputs": [],
   "source": [
    "# logged_model = 'runs:/7ce75c302a9e4602aee4e673c124f127/better_models' #replace with one of your models\n",
    "\n",
    "# # Load model as a PyFuncModel.\n",
    "# loaded_model = mlflow.pyfunc.load_model(logged_model)\n",
    "# loaded_model"
   ]
  },
  {
   "cell_type": "code",
   "execution_count": 32,
   "metadata": {},
   "outputs": [],
   "source": [
    "# sklearn_model = mlflow.sklearn.load_model(logged_model)\n",
    "# sklearn_model"
   ]
  },
  {
   "cell_type": "code",
   "execution_count": 33,
   "metadata": {},
   "outputs": [],
   "source": [
    "# sklearn_model.fit(X_train, y_train)\n",
    "# preds = sklearn_model.predict(X_test)\n",
    "# preds[:5]"
   ]
  },
  {
   "attachments": {},
   "cell_type": "markdown",
   "metadata": {},
   "source": [
    "### Model Registry\n",
    "\n",
    "Typically, you will **register** your *chosen* model, the model you plan to put into production. But, sometimes, after you've chosen and registered a model, you may need to replace that model with a new version. For example, the model may have gone into production and started to degrade in performance, and so the model needed to be retrained. Or, you go to deploy your model and notice an error or bug, and now have to go back and retrain it.\n",
    "\n",
    "In this section let's see how we take our logged models and register them in the model registry, which then can get picked up by the production process, or engineer, for deployment. First, I'll demonstrate how this is done within the UI, but then below I'll show how we can use the python API to do the same thing."
   ]
  },
  {
   "cell_type": "code",
   "execution_count": 34,
   "metadata": {},
   "outputs": [],
   "source": [
    "# runid = '7ce75c302a9e4602aee4e673c124f127'\n",
    "# mod_path = f'runs:/{runid}/artifacts/better_models'\n",
    "# mlflow.register_model(model_uri = mod_path, name = 'wine_model_from_nb')"
   ]
  },
  {
   "attachments": {},
   "cell_type": "markdown",
   "metadata": {},
   "source": [
    "## Common Issues\n",
    "\n",
    "- Nothing is appearing in the MLFlow UI: make sure you start the UI from the directory where your notebook is running.  \n",
    "- I installed a library, but I'm getting an error loading it: be sure you installed it in the same environment as where your notebook is running.  \n",
    "- MLFlow doesn't seem to be working at all, I'm just getting errors all over the place: this might be a versioning issue.  \n",
    "- The UI broke, I can't get back to it: `sudo lsof -i :5000 | awk '{print $2}' | tail -n +2 | xargs kill`\n"
   ]
  },
  {
   "attachments": {},
   "cell_type": "markdown",
   "metadata": {},
   "source": [
    "\n",
    "# Experiment Tracking and Model Registry Lab\n",
    "\n",
    "## Overview\n",
    "\n",
    "In this lab you will each download a new dataset and attempt to train a good model, and use mlflow to keep track of all of your experiments, log your metrics, artifacts and models, and then register a final set of models for \"deployment\", though we won't actually deploy them anywhere yet.\n",
    "\n",
    "## Goal\n",
    "\n",
    "Your goal is **not** to become a master at MLFlow - this is not a course on learning all of the ins and outs of MLFlow. Instead, your goal is to understand when and why it is important to track your model development process (tracking experiments, artifacts and models) and to get into the habit of doing so, and then learn at least the basics of how MLFlow helps you do this so that you can then compare with other tools that are available.\n",
    "\n",
    "## Data\n",
    "\n",
    "You can choose your own dataset to use here. It will be helpful to choose a dataset that is already fairly clean and easy to work with. You can even use a dataset that you've used in a previous course. We will do a lot of labs where we do different things with datasets, so if you can find one that is interesting enough for modeling, it should work for most of the rest of the course. \n",
    "\n",
    "There are tons of places where you can find open public datasets. Choose something that interests you, but don't overthink it.\n",
    "\n",
    "[Kaggle Datasets](https://www.kaggle.com/datasets)  \n",
    "[HuggingFace Datasets](https://huggingface.co/docs/datasets/index)  \n",
    "[Dagshub Datasets](https://dagshub.com/datasets/)  \n",
    "[UCI](https://archive.ics.uci.edu/ml/datasets.php)  \n",
    "[Open Data on AWS](https://registry.opendata.aws/)  \n",
    "[Yelp](https://www.yelp.com/dataset)  \n",
    "[MovieLens](https://grouplens.org/datasets/movielens/)  \n",
    "And so many more...\n",
    "\n",
    "## Instructions\n",
    "\n",
    "Once you have selected a set of data, create a brand new experiment in MLFlow and begin exploring your data. Do some EDA, clean up, and learn about your data. You do not need to begin tracking anything yet, but you can if you want to (e.g. you can log different versions of your data as you clean it up and do any feature engineering). Do not spend a ton of time on this part. Your goal isn't really to build a great model, so don't spend hours on feature engineering and missing data imputation and things like that.\n",
    "\n",
    "Once your data is clean, begin training models and tracking your experiments. If you intend to use this same dataset for your final project, then start thinking about what your model might look like when you actually deploy it. For example, when you engineer new features, be sure to save the code that does this, as you will need this in the future. If your final model has 1000 complex features, you might have a difficult time deploying it later on. If your final model takes 15 minutes to train, or takes a long time to score a new batch of data, you may want to think about training a less complex model.\n",
    "\n",
    "Now, when tracking your experiments, at a *minimum*, you should:\n",
    "\n",
    "1. Try at least 3 different ML algorithms (e.g. linear regression, decision tree, random forest, etc.).\n",
    "2. Do hyperparameter tuning for **each** algorithm.\n",
    "3. Do some very basic feature selection, and repeat the above steps with these reduced sets of features.\n",
    "4. Identify the top 3 best models and note these down for later.\n",
    "6. Choose the **final** \"best\" model that you would deploy or use on future data, stage it (in MLFlow), and run it on the test set to get a final measure of performance. Don't forget to log the test set metric.\n",
    "7. Be sure you logged the exact training, validation, and testing datasets for the 3 best models, as well as hyperparameter values, and the values of your metrics.  \n",
    "8. Push your code to Github. No need to track the mlruns folder, the images folder, any datasets, or the sqlite database in git.\n",
    "\n",
    "### Turning It In\n",
    "\n",
    "In the MLFlow UI, next to the refresh button you should see three vertical dots. Click the dots and then download your experiments as a csv file. Open the csv file in Excel and highlight the rows for your top 3 models from step 4, highlight the run where you applied your best model to the test set, and then save as an excel file. Take a snapshot of the Models page in the MLFLow UI showing the model you staged in step 6 above. Submit the excel file and the snapshot to Canvas."
   ]
  },
  {
   "cell_type": "markdown",
   "metadata": {},
   "source": [
    "Best 3 models are rf_selected_top_3, random_forest_feature_selection and xgboost_feature_selection"
   ]
  },
  {
   "cell_type": "markdown",
   "metadata": {},
   "source": []
  },
  {
   "cell_type": "code",
   "execution_count": 35,
   "metadata": {},
   "outputs": [
    {
     "name": "stdout",
     "output_type": "stream",
     "text": [
      "Created new experiment: movie_rating_prediction with ID: 3\n"
     ]
    },
    {
     "data": {
      "text/plain": [
       "<Experiment: artifact_location='mlflow-artifacts:/3', creation_time=1744950966337, experiment_id='3', last_update_time=1744950966337, lifecycle_stage='active', name='movie_rating_prediction', tags={}>"
      ]
     },
     "execution_count": 35,
     "metadata": {},
     "output_type": "execute_result"
    }
   ],
   "source": [
    "experiment_name = \"movie_rating_prediction\"\n",
    "try:\n",
    "    experiment_id = mlflow.create_experiment(experiment_name)\n",
    "    print(f\"Created new experiment: {experiment_name} with ID: {experiment_id}\")\n",
    "except:\n",
    "    experiment_id = mlflow.get_experiment_by_name(experiment_name).experiment_id\n",
    "    print(f\"Using existing experiment: {experiment_name} with ID: {experiment_id}\")\n",
    "\n",
    "mlflow.set_experiment(experiment_name)"
   ]
  },
  {
   "cell_type": "code",
   "execution_count": 36,
   "metadata": {},
   "outputs": [
    {
     "name": "stdout",
     "output_type": "stream",
     "text": [
      "<class 'pandas.core.frame.DataFrame'>\n",
      "RangeIndex: 8560 entries, 0 to 8559\n",
      "Data columns (total 7 columns):\n",
      " #   Column        Non-Null Count  Dtype  \n",
      "---  ------        --------------  -----  \n",
      " 0   id            8560 non-null   int64  \n",
      " 1   title         8560 non-null   object \n",
      " 2   overview      8560 non-null   object \n",
      " 3   release_date  8558 non-null   object \n",
      " 4   popularity    8560 non-null   float64\n",
      " 5   vote_average  8560 non-null   float64\n",
      " 6   vote_count    8560 non-null   int64  \n",
      "dtypes: float64(2), int64(2), object(3)\n",
      "memory usage: 468.3+ KB\n"
     ]
    }
   ],
   "source": [
    "df_netflix = pd.read_csv('../data/movies.csv')\n",
    "\n",
    "df_netflix.info()"
   ]
  },
  {
   "cell_type": "code",
   "execution_count": 37,
   "metadata": {},
   "outputs": [
    {
     "data": {
      "text/plain": [
       "Index(['id', 'title', 'overview', 'release_date', 'popularity', 'vote_average',\n",
       "       'vote_count'],\n",
       "      dtype='object')"
      ]
     },
     "execution_count": 37,
     "metadata": {},
     "output_type": "execute_result"
    }
   ],
   "source": [
    "df_netflix.columns"
   ]
  },
  {
   "cell_type": "code",
   "execution_count": 38,
   "metadata": {},
   "outputs": [
    {
     "data": {
      "text/html": [
       "<div>\n",
       "<style scoped>\n",
       "    .dataframe tbody tr th:only-of-type {\n",
       "        vertical-align: middle;\n",
       "    }\n",
       "\n",
       "    .dataframe tbody tr th {\n",
       "        vertical-align: top;\n",
       "    }\n",
       "\n",
       "    .dataframe thead th {\n",
       "        text-align: right;\n",
       "    }\n",
       "</style>\n",
       "<table border=\"1\" class=\"dataframe\">\n",
       "  <thead>\n",
       "    <tr style=\"text-align: right;\">\n",
       "      <th></th>\n",
       "      <th>id</th>\n",
       "      <th>title</th>\n",
       "      <th>overview</th>\n",
       "      <th>release_date</th>\n",
       "      <th>popularity</th>\n",
       "      <th>vote_average</th>\n",
       "      <th>vote_count</th>\n",
       "    </tr>\n",
       "  </thead>\n",
       "  <tbody>\n",
       "    <tr>\n",
       "      <th>0</th>\n",
       "      <td>278</td>\n",
       "      <td>The Shawshank Redemption</td>\n",
       "      <td>Imprisoned in the 1940s for the double murder ...</td>\n",
       "      <td>1994-09-23</td>\n",
       "      <td>5.522</td>\n",
       "      <td>8.708</td>\n",
       "      <td>27883</td>\n",
       "    </tr>\n",
       "    <tr>\n",
       "      <th>1</th>\n",
       "      <td>238</td>\n",
       "      <td>The Godfather</td>\n",
       "      <td>Spanning the years 1945 to 1955, a chronicle o...</td>\n",
       "      <td>1972-03-14</td>\n",
       "      <td>5.317</td>\n",
       "      <td>8.689</td>\n",
       "      <td>21151</td>\n",
       "    </tr>\n",
       "    <tr>\n",
       "      <th>2</th>\n",
       "      <td>240</td>\n",
       "      <td>The Godfather Part II</td>\n",
       "      <td>In the continuing saga of the Corleone crime f...</td>\n",
       "      <td>1974-12-20</td>\n",
       "      <td>4.747</td>\n",
       "      <td>8.570</td>\n",
       "      <td>12771</td>\n",
       "    </tr>\n",
       "    <tr>\n",
       "      <th>3</th>\n",
       "      <td>424</td>\n",
       "      <td>Schindler's List</td>\n",
       "      <td>The true story of how businessman Oskar Schind...</td>\n",
       "      <td>1993-12-15</td>\n",
       "      <td>4.457</td>\n",
       "      <td>8.567</td>\n",
       "      <td>16219</td>\n",
       "    </tr>\n",
       "    <tr>\n",
       "      <th>4</th>\n",
       "      <td>1356039</td>\n",
       "      <td>Counterattack</td>\n",
       "      <td>When a hostage rescue mission creates a new en...</td>\n",
       "      <td>2025-02-27</td>\n",
       "      <td>9.430</td>\n",
       "      <td>8.524</td>\n",
       "      <td>431</td>\n",
       "    </tr>\n",
       "    <tr>\n",
       "      <th>...</th>\n",
       "      <td>...</td>\n",
       "      <td>...</td>\n",
       "      <td>...</td>\n",
       "      <td>...</td>\n",
       "      <td>...</td>\n",
       "      <td>...</td>\n",
       "      <td>...</td>\n",
       "    </tr>\n",
       "    <tr>\n",
       "      <th>8555</th>\n",
       "      <td>291264</td>\n",
       "      <td>The Family Fang</td>\n",
       "      <td>A brother and sister return to their family ho...</td>\n",
       "      <td>2016-04-16</td>\n",
       "      <td>3.535</td>\n",
       "      <td>5.800</td>\n",
       "      <td>329</td>\n",
       "    </tr>\n",
       "    <tr>\n",
       "      <th>8556</th>\n",
       "      <td>250349</td>\n",
       "      <td>Barbecue</td>\n",
       "      <td>On his 50th birthday, a man who's been watchin...</td>\n",
       "      <td>2014-04-30</td>\n",
       "      <td>3.829</td>\n",
       "      <td>5.834</td>\n",
       "      <td>699</td>\n",
       "    </tr>\n",
       "    <tr>\n",
       "      <th>8557</th>\n",
       "      <td>150202</td>\n",
       "      <td>The Haunting in Connecticut 2: Ghosts of Georgia</td>\n",
       "      <td>A young family moves into a historic home in G...</td>\n",
       "      <td>2013-02-01</td>\n",
       "      <td>3.533</td>\n",
       "      <td>5.800</td>\n",
       "      <td>520</td>\n",
       "    </tr>\n",
       "    <tr>\n",
       "      <th>8558</th>\n",
       "      <td>4942</td>\n",
       "      <td>Leatherheads</td>\n",
       "      <td>A light hearted comedy about the beginnings of...</td>\n",
       "      <td>2008-03-24</td>\n",
       "      <td>3.532</td>\n",
       "      <td>5.800</td>\n",
       "      <td>457</td>\n",
       "    </tr>\n",
       "    <tr>\n",
       "      <th>8559</th>\n",
       "      <td>748167</td>\n",
       "      <td>Uglies</td>\n",
       "      <td>In a futuristic dystopia with enforced beauty ...</td>\n",
       "      <td>2024-09-12</td>\n",
       "      <td>3.657</td>\n",
       "      <td>5.800</td>\n",
       "      <td>741</td>\n",
       "    </tr>\n",
       "  </tbody>\n",
       "</table>\n",
       "<p>8560 rows × 7 columns</p>\n",
       "</div>"
      ],
      "text/plain": [
       "           id                                             title  \\\n",
       "0         278                          The Shawshank Redemption   \n",
       "1         238                                     The Godfather   \n",
       "2         240                             The Godfather Part II   \n",
       "3         424                                  Schindler's List   \n",
       "4     1356039                                     Counterattack   \n",
       "...       ...                                               ...   \n",
       "8555   291264                                   The Family Fang   \n",
       "8556   250349                                          Barbecue   \n",
       "8557   150202  The Haunting in Connecticut 2: Ghosts of Georgia   \n",
       "8558     4942                                      Leatherheads   \n",
       "8559   748167                                            Uglies   \n",
       "\n",
       "                                               overview release_date  \\\n",
       "0     Imprisoned in the 1940s for the double murder ...   1994-09-23   \n",
       "1     Spanning the years 1945 to 1955, a chronicle o...   1972-03-14   \n",
       "2     In the continuing saga of the Corleone crime f...   1974-12-20   \n",
       "3     The true story of how businessman Oskar Schind...   1993-12-15   \n",
       "4     When a hostage rescue mission creates a new en...   2025-02-27   \n",
       "...                                                 ...          ...   \n",
       "8555  A brother and sister return to their family ho...   2016-04-16   \n",
       "8556  On his 50th birthday, a man who's been watchin...   2014-04-30   \n",
       "8557  A young family moves into a historic home in G...   2013-02-01   \n",
       "8558  A light hearted comedy about the beginnings of...   2008-03-24   \n",
       "8559  In a futuristic dystopia with enforced beauty ...   2024-09-12   \n",
       "\n",
       "      popularity  vote_average  vote_count  \n",
       "0          5.522         8.708       27883  \n",
       "1          5.317         8.689       21151  \n",
       "2          4.747         8.570       12771  \n",
       "3          4.457         8.567       16219  \n",
       "4          9.430         8.524         431  \n",
       "...          ...           ...         ...  \n",
       "8555       3.535         5.800         329  \n",
       "8556       3.829         5.834         699  \n",
       "8557       3.533         5.800         520  \n",
       "8558       3.532         5.800         457  \n",
       "8559       3.657         5.800         741  \n",
       "\n",
       "[8560 rows x 7 columns]"
      ]
     },
     "execution_count": 38,
     "metadata": {},
     "output_type": "execute_result"
    }
   ],
   "source": [
    "df_netflix"
   ]
  },
  {
   "cell_type": "code",
   "execution_count": 39,
   "metadata": {},
   "outputs": [
    {
     "name": "stderr",
     "output_type": "stream",
     "text": [
      "2025/04/17 21:36:09 WARNING mlflow.models.model: Input example should be provided to infer model signature if the model signature is not provided when logging the model.\n",
      "2025/04/17 21:36:09 INFO mlflow.tracking._tracking_service.client: 🏃 View run overjoyed-newt-365 at: https://mlflow-server1-759416646959.us-west2.run.app/#/experiments/3/runs/e754df272378460bbe0f0d8a06df20ad.\n",
      "2025/04/17 21:36:09 INFO mlflow.tracking._tracking_service.client: 🧪 View experiment at: https://mlflow-server1-759416646959.us-west2.run.app/#/experiments/3.\n"
     ]
    },
    {
     "name": "stdout",
     "output_type": "stream",
     "text": [
      "RMSE: 0.5744\n"
     ]
    }
   ],
   "source": [
    "from sklearn.model_selection import train_test_split\n",
    "from sklearn.linear_model import LinearRegression\n",
    "from sklearn.metrics import mean_squared_error\n",
    "import numpy as np\n",
    "import mlflow\n",
    "\n",
    "df_train, df_test = train_test_split(df_netflix, test_size=0.2, random_state=42)\n",
    "\n",
    "features = ['popularity', 'vote_count'] \n",
    "X_train = df_train[features]\n",
    "y_train = df_train['vote_average']\n",
    "X_test = df_test[features]\n",
    "y_test = df_test['vote_average']\n",
    "\n",
    "with mlflow.start_run():\n",
    "    X_train_train, X_val, y_train_train, y_val = train_test_split(\n",
    "        X_train, y_train, test_size=0.2, random_state=42\n",
    "    )\n",
    "    \n",
    "    model = LinearRegression()\n",
    "    model.fit(X_train_train, y_train_train)\n",
    "    \n",
    "    y_pred_val = model.predict(X_val)\n",
    "    \n",
    "    rmse = np.sqrt(mean_squared_error(y_val, y_pred_val))\n",
    "    \n",
    "    mlflow.log_param(\"model\", \"LinearRegression\")\n",
    "    mlflow.log_metric(\"rmse\", rmse)\n",
    "    \n",
    "    mlflow.sklearn.log_model(model, \"model\")\n",
    "    \n",
    "    print(f\"RMSE: {rmse:.4f}\")"
   ]
  },
  {
   "cell_type": "markdown",
   "metadata": {},
   "source": [
    "# Feature selection\n",
    "\n"
   ]
  },
  {
   "cell_type": "code",
   "execution_count": 40,
   "metadata": {},
   "outputs": [
    {
     "name": "stderr",
     "output_type": "stream",
     "text": [
      "2025/04/17 21:36:12 WARNING mlflow.models.model: Input example should be provided to infer model signature if the model signature is not provided when logging the model.\n",
      "2025/04/17 21:36:12 INFO mlflow.tracking._tracking_service.client: 🏃 View run redolent-goose-683 at: https://mlflow-server1-759416646959.us-west2.run.app/#/experiments/3/runs/64d7503f2e594afaa5fdb30292a78898.\n",
      "2025/04/17 21:36:12 INFO mlflow.tracking._tracking_service.client: 🧪 View experiment at: https://mlflow-server1-759416646959.us-west2.run.app/#/experiments/3.\n"
     ]
    },
    {
     "name": "stdout",
     "output_type": "stream",
     "text": [
      "RMSE: 0.5744\n",
      "Model saved to: models/linear_regression_model.pkl\n"
     ]
    }
   ],
   "source": [
    "from sklearn.model_selection import train_test_split\n",
    "from sklearn.linear_model import LinearRegression\n",
    "from sklearn.metrics import mean_squared_error\n",
    "import numpy as np\n",
    "import mlflow\n",
    "import os\n",
    "\n",
    "if not os.path.exists(\"models\"):\n",
    "    os.makedirs(\"models\")\n",
    "\n",
    "df_train, df_test = train_test_split(df_netflix, test_size=0.2, random_state=42)\n",
    "\n",
    "features = ['popularity', 'vote_count'] \n",
    "X_train = df_train[features]\n",
    "y_train = df_train['vote_average']\n",
    "X_test = df_test[features]\n",
    "y_test = df_test['vote_average']\n",
    "\n",
    "with mlflow.start_run():\n",
    "    X_train_train, X_val, y_train_train, y_val = train_test_split(\n",
    "        X_train, y_train, test_size=0.2, random_state=42\n",
    "    )\n",
    "    \n",
    "    model = LinearRegression()\n",
    "    model.fit(X_train_train, y_train_train)\n",
    "    \n",
    "    y_pred_val = model.predict(X_val)\n",
    "    \n",
    "    rmse = np.sqrt(mean_squared_error(y_val, y_pred_val))\n",
    "    \n",
    "    mlflow.log_param(\"model\", \"LinearRegression\")\n",
    "    mlflow.log_metric(\"rmse\", rmse)\n",
    "    \n",
    "    mlflow.sklearn.log_model(model, \"model\")\n",
    "    \n",
    "    import joblib\n",
    "    joblib.dump(model, \"models/linear_regression_model.pkl\")\n",
    "    \n",
    "    print(f\"RMSE: {rmse:.4f}\")\n",
    "    print(f\"Model saved to: models/linear_regression_model.pkl\")"
   ]
  },
  {
   "cell_type": "markdown",
   "metadata": {},
   "source": [
    "# Decision Tree"
   ]
  },
  {
   "cell_type": "code",
   "execution_count": 41,
   "metadata": {},
   "outputs": [],
   "source": [
    "from sklearn.model_selection import train_test_split, GridSearchCV\n",
    "from sklearn.tree import DecisionTreeRegressor\n",
    "from sklearn.preprocessing import LabelEncoder\n",
    "\n",
    "if not os.path.exists(\"models\"):\n",
    "    os.makedirs(\"models\")\n",
    "\n",
    "df_netflix = pd.read_csv('../data/movies.csv')\n",
    "selected_features = ['title', 'release_date', 'popularity', 'vote_count']\n",
    "target = 'vote_average'\n",
    "\n",
    "df_feat = df_netflix[selected_features + [target]].copy()\n",
    "\n",
    "def preprocess_data(df):\n",
    "    df_processed = df.copy()\n",
    "    \n",
    "    label_encoders = {}\n",
    "    for column in ['title']:\n",
    "        le = LabelEncoder()\n",
    "        df_processed[column] = le.fit_transform(df_processed[column])\n",
    "        label_encoders[column] = le\n",
    "    \n",
    "    df_processed['release_year'] = pd.to_datetime(df_processed['release_date'], errors='coerce').dt.year\n",
    "    df_processed.drop('release_date', axis=1, inplace=True)\n",
    "    \n",
    "    return df_processed, label_encoders\n",
    "\n",
    "df_processed, label_encoders = preprocess_data(df_feat)\n",
    "X = df_processed.drop(target, axis=1)\n",
    "y = df_processed[target]\n",
    "\n",
    "X_train, X_test, y_train, y_test = train_test_split(X, y, test_size=0.2, random_state=42)\n",
    "X_train_train, X_val, y_train_train, y_val = train_test_split(X_train, y_train, test_size=0.2, random_state=42)"
   ]
  },
  {
   "cell_type": "code",
   "execution_count": 42,
   "metadata": {},
   "outputs": [
    {
     "name": "stdout",
     "output_type": "stream",
     "text": [
      "Fitting 5 folds for each of 45 candidates, totalling 225 fits\n"
     ]
    },
    {
     "name": "stderr",
     "output_type": "stream",
     "text": [
      "2025/04/17 21:36:18 WARNING mlflow.models.model: Input example should be provided to infer model signature if the model signature is not provided when logging the model.\n",
      "2025/04/17 21:36:22 WARNING mlflow.models.model: Input example should be provided to infer model signature if the model signature is not provided when logging the model.\n",
      "2025/04/17 21:36:22 INFO mlflow.tracking._tracking_service.client: 🏃 View run dt_top_1 at: https://mlflow-server1-759416646959.us-west2.run.app/#/experiments/3/runs/4d17fe12ea5b4cc4bd8e5fb9388b581b.\n",
      "2025/04/17 21:36:22 INFO mlflow.tracking._tracking_service.client: 🧪 View experiment at: https://mlflow-server1-759416646959.us-west2.run.app/#/experiments/3.\n",
      "2025/04/17 21:36:27 WARNING mlflow.models.model: Input example should be provided to infer model signature if the model signature is not provided when logging the model.\n",
      "2025/04/17 21:36:28 INFO mlflow.tracking._tracking_service.client: 🏃 View run dt_top_2 at: https://mlflow-server1-759416646959.us-west2.run.app/#/experiments/3/runs/8d483488666447369da7085b07aacb44.\n",
      "2025/04/17 21:36:28 INFO mlflow.tracking._tracking_service.client: 🧪 View experiment at: https://mlflow-server1-759416646959.us-west2.run.app/#/experiments/3.\n",
      "2025/04/17 21:36:31 WARNING mlflow.models.model: Input example should be provided to infer model signature if the model signature is not provided when logging the model.\n",
      "2025/04/17 21:36:31 INFO mlflow.tracking._tracking_service.client: 🏃 View run dt_top_3 at: https://mlflow-server1-759416646959.us-west2.run.app/#/experiments/3/runs/709ca7dcce324419adeaddddb489fcf7.\n",
      "2025/04/17 21:36:31 INFO mlflow.tracking._tracking_service.client: 🧪 View experiment at: https://mlflow-server1-759416646959.us-west2.run.app/#/experiments/3.\n",
      "2025/04/17 21:36:31 INFO mlflow.tracking._tracking_service.client: 🏃 View run decision_tree_tuning at: https://mlflow-server1-759416646959.us-west2.run.app/#/experiments/3/runs/c9e37b7a110f449da83631af662901cc.\n",
      "2025/04/17 21:36:31 INFO mlflow.tracking._tracking_service.client: 🧪 View experiment at: https://mlflow-server1-759416646959.us-west2.run.app/#/experiments/3.\n"
     ]
    },
    {
     "name": "stdout",
     "output_type": "stream",
     "text": [
      "Best parameters: {'max_depth': 7, 'min_samples_leaf': 4, 'min_samples_split': 2}\n",
      "Training RMSE: 0.5153\n",
      "Validation RMSE: 0.5414\n",
      "Model saved to: models/decision_tree_best.pkl\n"
     ]
    }
   ],
   "source": [
    "def train_decision_tree_with_tuning(X_train, y_train, X_val, y_val):\n",
    "    param_grid = {\n",
    "        'max_depth': [3, 5, 7, 10, None],\n",
    "        'min_samples_split': [2, 5, 10],\n",
    "        'min_samples_leaf': [1, 2, 4]\n",
    "    }\n",
    "    \n",
    "    dt = DecisionTreeRegressor(random_state=42)\n",
    "    \n",
    "    grid_search = GridSearchCV(\n",
    "        estimator=dt,\n",
    "        param_grid=param_grid,\n",
    "        cv=5,\n",
    "        scoring='neg_mean_squared_error',\n",
    "        n_jobs=-1,\n",
    "        return_train_score=True,\n",
    "        verbose=1\n",
    "    )\n",
    "    \n",
    "    grid_search.fit(X_train, y_train)\n",
    "    \n",
    "    cv_results = pd.DataFrame(grid_search.cv_results_)\n",
    "    cv_results['rmse'] = np.sqrt(-cv_results['mean_test_score'])\n",
    "    cv_results = cv_results.sort_values('rmse')\n",
    "    \n",
    "    best_dt = grid_search.best_estimator_\n",
    "    best_params = grid_search.best_params_\n",
    "    \n",
    "    y_train_pred = best_dt.predict(X_train)\n",
    "    y_val_pred = best_dt.predict(X_val)\n",
    "    \n",
    "    train_rmse = np.sqrt(mean_squared_error(y_train, y_train_pred))\n",
    "    val_rmse = np.sqrt(mean_squared_error(y_val, y_val_pred))\n",
    "    \n",
    "    return best_dt, best_params, train_rmse, val_rmse, cv_results\n",
    "\n",
    "with mlflow.start_run(run_name=\"decision_tree_tuning\"):\n",
    "    best_dt, best_params, train_rmse, val_rmse, cv_results = train_decision_tree_with_tuning(\n",
    "        X_train_train, y_train_train, X_val, y_val\n",
    "    )\n",
    "    \n",
    "    mlflow.log_param(\"model_type\", \"DecisionTreeRegressor\")\n",
    "    for param, value in best_params.items():\n",
    "        mlflow.log_param(param, value)\n",
    "    \n",
    "    mlflow.log_param(\"features\", list(X_train.columns))\n",
    "    mlflow.log_metric(\"train_rmse\", train_rmse)\n",
    "    mlflow.log_metric(\"val_rmse\", val_rmse)\n",
    "    \n",
    "    mlflow.sklearn.log_model(best_dt, \"decision_tree_model\")\n",
    "    joblib.dump(best_dt, \"models/decision_tree_best.pkl\")\n",
    "    \n",
    "    top_models = cv_results.head(3)\n",
    "    for i, (idx, row) in enumerate(top_models.iterrows()):\n",
    "        params = {\n",
    "            'max_depth': row['param_max_depth'],\n",
    "            'min_samples_split': row['param_min_samples_split'],\n",
    "            'min_samples_leaf': row['param_min_samples_leaf'],\n",
    "            'random_state': 42\n",
    "        }\n",
    "        \n",
    "        model = DecisionTreeRegressor(**params)\n",
    "        model.fit(X_train_train, y_train_train)\n",
    "        \n",
    "        model_name = f\"dt_top_{i+1}\"\n",
    "        model_path = f\"models/{model_name}.pkl\"\n",
    "        joblib.dump(model, model_path)\n",
    "        \n",
    "        with mlflow.start_run(nested=True, run_name=model_name):\n",
    "            for param_name, param_value in params.items():\n",
    "                mlflow.log_param(param_name, param_value)\n",
    "            \n",
    "            y_train_pred = model.predict(X_train_train)\n",
    "            y_val_pred = model.predict(X_val)\n",
    "            \n",
    "            train_rmse = np.sqrt(mean_squared_error(y_train_train, y_train_pred))\n",
    "            val_rmse = np.sqrt(mean_squared_error(y_val, y_val_pred))\n",
    "            \n",
    "            mlflow.log_metric(\"train_rmse\", train_rmse)\n",
    "            mlflow.log_metric(\"val_rmse\", val_rmse)\n",
    "            mlflow.sklearn.log_model(model, model_name)\n",
    "    \n",
    "    print(f\"Best parameters: {best_params}\")\n",
    "    print(f\"Training RMSE: {train_rmse:.4f}\")\n",
    "    print(f\"Validation RMSE: {val_rmse:.4f}\")\n",
    "    print(f\"Model saved to: models/decision_tree_best.pkl\")"
   ]
  },
  {
   "cell_type": "code",
   "execution_count": null,
   "metadata": {},
   "outputs": [],
   "source": []
  },
  {
   "cell_type": "code",
   "execution_count": 43,
   "metadata": {},
   "outputs": [
    {
     "name": "stdout",
     "output_type": "stream",
     "text": [
      "Selected features: ['vote_count', 'release_year', 'popularity']\n",
      "Feature importance:\n",
      "        feature  importance\n",
      "2    vote_count    0.422721\n",
      "3  release_year    0.376741\n",
      "1    popularity    0.165047\n",
      "0         title    0.035491\n",
      "Fitting 5 folds for each of 45 candidates, totalling 225 fits\n"
     ]
    },
    {
     "name": "stderr",
     "output_type": "stream",
     "text": [
      "2025/04/17 21:36:36 WARNING mlflow.models.model: Input example should be provided to infer model signature if the model signature is not provided when logging the model.\n",
      "2025/04/17 21:36:39 WARNING mlflow.models.model: Input example should be provided to infer model signature if the model signature is not provided when logging the model.\n",
      "2025/04/17 21:36:40 INFO mlflow.tracking._tracking_service.client: 🏃 View run dt_selected_top_1 at: https://mlflow-server1-759416646959.us-west2.run.app/#/experiments/3/runs/c3fee796ed64425dabca821910cc4fc0.\n",
      "2025/04/17 21:36:40 INFO mlflow.tracking._tracking_service.client: 🧪 View experiment at: https://mlflow-server1-759416646959.us-west2.run.app/#/experiments/3.\n",
      "2025/04/17 21:36:43 WARNING mlflow.models.model: Input example should be provided to infer model signature if the model signature is not provided when logging the model.\n",
      "2025/04/17 21:36:43 INFO mlflow.tracking._tracking_service.client: 🏃 View run dt_selected_top_2 at: https://mlflow-server1-759416646959.us-west2.run.app/#/experiments/3/runs/8bdb03acb93545fcb68ceb686052dedc.\n",
      "2025/04/17 21:36:43 INFO mlflow.tracking._tracking_service.client: 🧪 View experiment at: https://mlflow-server1-759416646959.us-west2.run.app/#/experiments/3.\n"
     ]
    }
   ],
   "source": [
    "def select_important_features(model, X, threshold=0.1):\n",
    "    importances = model.feature_importances_\n",
    "    feature_importance = pd.DataFrame({\n",
    "        'feature': X.columns,\n",
    "        'importance': importances\n",
    "    }).sort_values('importance', ascending=False)\n",
    "    \n",
    "    selected = feature_importance[feature_importance['importance'] > threshold]['feature'].tolist()\n",
    "    \n",
    "    return selected, feature_importance\n",
    "\n",
    "with mlflow.start_run(run_name=\"decision_tree_feature_selection\"):\n",
    "    important_features, importance_df = select_important_features(best_dt, X_train)\n",
    "    \n",
    "    print(f\"Selected features: {important_features}\")\n",
    "    print(\"Feature importance:\")\n",
    "    print(importance_df)\n",
    "    \n",
    "    X_train_selected = X_train[important_features]\n",
    "    X_val_selected = X_val[important_features]\n",
    "    X_test_selected = X_test[important_features]\n",
    "    \n",
    "    mlflow.log_param(\"feature_selection_threshold\", 0.1)\n",
    "    mlflow.log_param(\"selected_features\", important_features)\n",
    "    for feature, importance in zip(importance_df['feature'], importance_df['importance']):\n",
    "        mlflow.log_metric(f\"importance_{feature}\", importance)\n",
    "    \n",
    "    param_grid = {\n",
    "        'max_depth': [3, 5, 7, 10, None],\n",
    "        'min_samples_split': [2, 5, 10],\n",
    "        'min_samples_leaf': [1, 2, 4]\n",
    "    }\n",
    "    \n",
    "    dt_selected = DecisionTreeRegressor(random_state=42)\n",
    "    \n",
    "    grid_search_selected = GridSearchCV(\n",
    "        estimator=dt_selected,\n",
    "        param_grid=param_grid,\n",
    "        cv=5,\n",
    "        scoring='neg_mean_squared_error',\n",
    "        n_jobs=-1,\n",
    "        return_train_score=True,\n",
    "        verbose=1\n",
    "    )\n",
    "    \n",
    "    grid_search_selected.fit(X_train_selected, y_train)\n",
    "    \n",
    "    cv_results_selected = pd.DataFrame(grid_search_selected.cv_results_)\n",
    "    cv_results_selected['rmse'] = np.sqrt(-cv_results_selected['mean_test_score'])\n",
    "    cv_results_selected = cv_results_selected.sort_values('rmse')\n",
    "    \n",
    "    best_dt_selected = grid_search_selected.best_estimator_\n",
    "    best_params_selected = grid_search_selected.best_params_\n",
    "    \n",
    "    y_train_pred = best_dt_selected.predict(X_train_selected)\n",
    "    y_val_pred = best_dt_selected.predict(X_val_selected)\n",
    "    y_test_pred = best_dt_selected.predict(X_test_selected)\n",
    "    \n",
    "    train_rmse_selected = np.sqrt(mean_squared_error(y_train, y_train_pred))\n",
    "    val_rmse_selected = np.sqrt(mean_squared_error(y_val, y_val_pred))\n",
    "    test_rmse_selected = np.sqrt(mean_squared_error(y_test, y_test_pred))\n",
    "    \n",
    "    mlflow.log_param(\"model_type\", \"DecisionTreeRegressor_FeatureSelection\")\n",
    "    for param, value in best_params_selected.items():\n",
    "        mlflow.log_param(param, value)\n",
    "    \n",
    "    mlflow.log_metric(\"train_rmse\", train_rmse_selected)\n",
    "    mlflow.log_metric(\"val_rmse\", val_rmse_selected)\n",
    "    mlflow.log_metric(\"test_rmse\", test_rmse_selected)\n",
    "    \n",
    "    model_path = \"models/decision_tree_selected_features.pkl\"\n",
    "    joblib.dump(best_dt_selected, model_path)\n",
    "    mlflow.log_artifact(model_path)\n",
    "    mlflow.sklearn.log_model(best_dt_selected, \"decision_tree_selected_features\")\n",
    "    \n",
    "    top_models_selected = cv_results_selected.head(3)\n",
    "    for i, (idx, row) in enumerate(top_models_selected.iterrows()):\n",
    "        params = {\n",
    "            'max_depth': row['param_max_depth'],\n",
    "            'min_samples_split': row['param_min_samples_split'],\n",
    "            'min_samples_leaf': row['param_min_samples_leaf'],\n",
    "            'random_state': 42\n",
    "        }\n",
    "        \n",
    "        model = DecisionTreeRegressor(**params)\n",
    "        model.fit(X_train_selected, y_train)\n",
    "        \n",
    "        model_name = f\"dt_selected_top_{i+1}\"\n",
    "        model_path = f\"models/{model_name}.pkl\"\n",
    "        joblib.dump(model, model_path)\n",
    "        \n",
    "        with mlflow.start_run(nested=True, run_name=model_name):\n",
    "            for param_name, param_value in params.items():\n",
    "                mlflow.log_param(param_name, param_value)\n",
    "            \n",
    "            y_train_pred = model.predict(X_train_selected)\n",
    "            y_val_pred = model.predict(X_val_selected)\n",
    "            \n",
    "            train_rmse = np.sqrt(mean_squared_error(y_train, y_train_pred))\n",
    "            val_rmse = np.sqrt(mean_squared_error(y_val, y_val_pred))\n",
    "            \n",
    "            mlflow.log_metric(\"train_rmse\", train_rmse)\n",
    "            mlflow.log_metric(\"val_rmse\", val_rmse)\n",
    "            mlflow.sklearn.log_model(model, model_name)\n",
    "    "
   ]
  },
  {
   "cell_type": "code",
   "execution_count": null,
   "metadata": {},
   "outputs": [],
   "source": []
  },
  {
   "cell_type": "markdown",
   "metadata": {},
   "source": [
    "# Random Forest"
   ]
  },
  {
   "cell_type": "code",
   "execution_count": null,
   "metadata": {},
   "outputs": [],
   "source": [
    "from sklearn.ensemble import RandomForestRegressor"
   ]
  },
  {
   "cell_type": "code",
   "execution_count": null,
   "metadata": {},
   "outputs": [
    {
     "name": "stdout",
     "output_type": "stream",
     "text": [
      "Fitting 5 folds for each of 81 candidates, totalling 405 fits\n"
     ]
    },
    {
     "name": "stderr",
     "output_type": "stream",
     "text": [
      "2025/04/17 21:30:34 WARNING mlflow.models.model: Input example should be provided to infer model signature if the model signature is not provided when logging the model.\n",
      "2025/04/17 21:30:41 WARNING mlflow.models.model: Input example should be provided to infer model signature if the model signature is not provided when logging the model.\n",
      "2025/04/17 21:30:44 WARNING mlflow.models.model: Input example should be provided to infer model signature if the model signature is not provided when logging the model.\n",
      "2025/04/17 21:30:50 WARNING mlflow.models.model: Input example should be provided to infer model signature if the model signature is not provided when logging the model.\n"
     ]
    },
    {
     "name": "stdout",
     "output_type": "stream",
     "text": [
      "Best parameters: {'max_depth': 10, 'min_samples_leaf': 4, 'min_samples_split': 2, 'n_estimators': 200}\n",
      "Training RMSE: 0.4723\n",
      "Validation RMSE: 0.5329\n",
      "Model saved to: models/random_forest_best.pkl\n"
     ]
    }
   ],
   "source": [
    "def train_random_forest_with_tuning(X_train, y_train, X_val, y_val):\n",
    "    param_grid = {\n",
    "        'n_estimators': [50, 100, 200],\n",
    "        'max_depth': [5, 10, None],\n",
    "        'min_samples_split': [2, 5, 10],\n",
    "        'min_samples_leaf': [1, 2, 4]\n",
    "    }\n",
    "    \n",
    "    rf = RandomForestRegressor(random_state=42)\n",
    "    \n",
    "    grid_search = GridSearchCV(\n",
    "        estimator=rf,\n",
    "        param_grid=param_grid,\n",
    "        cv=5,\n",
    "        scoring='neg_mean_squared_error',\n",
    "        n_jobs=-1,\n",
    "        return_train_score=True,\n",
    "        verbose=1\n",
    "    )\n",
    "    \n",
    "    grid_search.fit(X_train, y_train)\n",
    "    \n",
    "    cv_results = pd.DataFrame(grid_search.cv_results_)\n",
    "    cv_results['rmse'] = np.sqrt(-cv_results['mean_test_score'])\n",
    "    cv_results = cv_results.sort_values('rmse')\n",
    "    \n",
    "    best_rf = grid_search.best_estimator_\n",
    "    best_params = grid_search.best_params_\n",
    "    \n",
    "    y_train_pred = best_rf.predict(X_train)\n",
    "    y_val_pred = best_rf.predict(X_val)\n",
    "    \n",
    "    train_rmse = np.sqrt(mean_squared_error(y_train, y_train_pred))\n",
    "    val_rmse = np.sqrt(mean_squared_error(y_val, y_val_pred))\n",
    "    \n",
    "    return best_rf, best_params, train_rmse, val_rmse, cv_results\n",
    "\n",
    "with mlflow.start_run(run_name=\"random_forest_tuning\"):\n",
    "    best_rf, best_params, train_rmse, val_rmse, cv_results = train_random_forest_with_tuning(\n",
    "        X_train_train, y_train_train, X_val, y_val\n",
    "    )\n",
    "    \n",
    "    mlflow.log_param(\"model_type\", \"RandomForestRegressor\")\n",
    "    for param, value in best_params.items():\n",
    "        mlflow.log_param(param, value)\n",
    "    \n",
    "    mlflow.log_param(\"features\", list(X_train.columns))\n",
    "    mlflow.log_metric(\"train_rmse\", train_rmse)\n",
    "    mlflow.log_metric(\"val_rmse\", val_rmse)\n",
    "    \n",
    "    mlflow.sklearn.log_model(best_rf, \"random_forest_model\")\n",
    "    joblib.dump(best_rf, \"models/random_forest_best.pkl\")\n",
    "    \n",
    "    top_models = cv_results.head(3)\n",
    "    for i, (idx, row) in enumerate(top_models.iterrows()):\n",
    "        params = {\n",
    "            'n_estimators': row['param_n_estimators'],\n",
    "            'max_depth': row['param_max_depth'],\n",
    "            'min_samples_split': row['param_min_samples_split'],\n",
    "            'min_samples_leaf': row['param_min_samples_leaf'],\n",
    "            'random_state': 42\n",
    "        }\n",
    "        \n",
    "        model = RandomForestRegressor(**params)\n",
    "        model.fit(X_train_train, y_train_train)\n",
    "        \n",
    "        model_name = f\"rf_top_{i+1}\"\n",
    "        model_path = f\"models/{model_name}.pkl\"\n",
    "        joblib.dump(model, model_path)\n",
    "        \n",
    "        with mlflow.start_run(nested=True, run_name=model_name):\n",
    "            for param_name, param_value in params.items():\n",
    "                mlflow.log_param(param_name, param_value)\n",
    "            \n",
    "            y_train_pred = model.predict(X_train_train)\n",
    "            y_val_pred = model.predict(X_val)\n",
    "            \n",
    "            train_rmse = np.sqrt(mean_squared_error(y_train_train, y_train_pred))\n",
    "            val_rmse = np.sqrt(mean_squared_error(y_val, y_val_pred))\n",
    "            \n",
    "            mlflow.log_metric(\"train_rmse\", train_rmse)\n",
    "            mlflow.log_metric(\"val_rmse\", val_rmse)\n",
    "            mlflow.sklearn.log_model(model, model_name)\n",
    "    \n",
    "    print(f\"Best parameters: {best_params}\")\n",
    "    print(f\"Training RMSE: {train_rmse:.4f}\")\n",
    "    print(f\"Validation RMSE: {val_rmse:.4f}\")\n",
    "    print(f\"Model saved to: models/random_forest_best.pkl\")"
   ]
  },
  {
   "cell_type": "code",
   "execution_count": null,
   "metadata": {},
   "outputs": [
    {
     "name": "stdout",
     "output_type": "stream",
     "text": [
      "Selected features: ['vote_count', 'release_year', 'popularity', 'title']\n",
      "Feature importance:\n",
      "        feature  importance\n",
      "2    vote_count    0.370821\n",
      "3  release_year    0.330965\n",
      "1    popularity    0.155534\n",
      "0         title    0.142679\n",
      "Fitting 5 folds for each of 81 candidates, totalling 405 fits\n"
     ]
    }
   ],
   "source": [
    "def select_important_features_rf(model, X, threshold=0.05):\n",
    "    importances = model.feature_importances_\n",
    "    feature_importance = pd.DataFrame({\n",
    "        'feature': X.columns,\n",
    "        'importance': importances\n",
    "    }).sort_values('importance', ascending=False)\n",
    "    \n",
    "    selected = feature_importance[feature_importance['importance'] > threshold]['feature'].tolist()\n",
    "    \n",
    "    return selected, feature_importance\n",
    "\n",
    "with mlflow.start_run(run_name=\"random_forest_feature_selection\"):\n",
    "    important_features, importance_df = select_important_features_rf(best_rf, X_train)\n",
    "    \n",
    "    print(f\"Selected features: {important_features}\")\n",
    "    print(\"Feature importance:\")\n",
    "    print(importance_df)\n",
    "    \n",
    "    X_train_selected = X_train[important_features]\n",
    "    X_val_selected = X_val[important_features]\n",
    "    X_test_selected = X_test[important_features]\n",
    "    \n",
    "    mlflow.log_param(\"feature_selection_threshold\", 0.05)\n",
    "    mlflow.log_param(\"selected_features\", important_features)\n",
    "    for feature, importance in zip(importance_df['feature'], importance_df['importance']):\n",
    "        mlflow.log_metric(f\"importance_{feature}\", importance)\n",
    "    \n",
    "    param_grid = {\n",
    "        'n_estimators': [50, 100, 200],\n",
    "        'max_depth': [5, 10, None],\n",
    "        'min_samples_split': [2, 5, 10],\n",
    "        'min_samples_leaf': [1, 2, 4]\n",
    "    }\n",
    "    \n",
    "    rf_selected = RandomForestRegressor(random_state=42)\n",
    "    \n",
    "    grid_search_selected = GridSearchCV(\n",
    "        estimator=rf_selected,\n",
    "        param_grid=param_grid,\n",
    "        cv=5,\n",
    "        scoring='neg_mean_squared_error',\n",
    "        n_jobs=-1,\n",
    "        return_train_score=True,\n",
    "        verbose=1\n",
    "    )\n",
    "    \n",
    "    grid_search_selected.fit(X_train_selected, y_train)\n",
    "    cv_results_selected = pd.DataFrame(grid_search_selected.cv_results_)\n",
    "    cv_results_selected['rmse'] = np.sqrt(-cv_results_selected['mean_test_score'])\n",
    "    cv_results_selected = cv_results_selected.sort_values('rmse')\n",
    "    \n",
    "    best_rf_selected = grid_search_selected.best_estimator_\n",
    "    best_params_selected = grid_search_selected.best_params_\n",
    "    \n",
    "    y_train_pred = best_rf_selected.predict(X_train_selected)\n",
    "    y_val_pred = best_rf_selected.predict(X_val_selected)\n",
    "    y_test_pred = best_rf_selected.predict(X_test_selected)\n",
    "    \n",
    "    train_rmse_selected = np.sqrt(mean_squared_error(y_train, y_train_pred))\n",
    "    val_rmse_selected = np.sqrt(mean_squared_error(y_val, y_val_pred))\n",
    "    test_rmse_selected = np.sqrt(mean_squared_error(y_test, y_test_pred))\n",
    "    \n",
    "    mlflow.log_param(\"model_type\", \"RandomForestRegressor_FeatureSelection\")\n",
    "    for param, value in best_params_selected.items():\n",
    "        mlflow.log_param(param, value)\n",
    "    \n",
    "    mlflow.log_metric(\"train_rmse\", train_rmse_selected)\n",
    "    mlflow.log_metric(\"val_rmse\", val_rmse_selected)\n",
    "    mlflow.log_metric(\"test_rmse\", test_rmse_selected)\n",
    "    \n",
    "    model_path = \"models/random_forest_selected_features.pkl\"\n",
    "    joblib.dump(best_rf_selected, model_path)\n",
    "    mlflow.log_artifact(model_path)\n",
    "    mlflow.sklearn.log_model(best_rf_selected, \"random_forest_selected_features\")\n",
    "    \n",
    "    top_models_selected = cv_results_selected.head(3)\n",
    "    for i, (idx, row) in enumerate(top_models_selected.iterrows()):\n",
    "        params = {\n",
    "            'n_estimators': row['param_n_estimators'],\n",
    "            'max_depth': row['param_max_depth'],\n",
    "            'min_samples_split': row['param_min_samples_split'],\n",
    "            'min_samples_leaf': row['param_min_samples_leaf'],\n",
    "            'random_state': 42\n",
    "        }\n",
    "        \n",
    "        model = RandomForestRegressor(**params)\n",
    "        model.fit(X_train_selected, y_train)\n",
    "        \n",
    "        model_name = f\"rf_selected_top_{i+1}\"\n",
    "        model_path = f\"models/{model_name}.pkl\"\n",
    "        joblib.dump(model, model_path)\n",
    "        \n",
    "        with mlflow.start_run(nested=True, run_name=model_name):\n",
    "            for param_name, param_value in params.items():\n",
    "                mlflow.log_param(param_name, param_value)\n",
    "            \n",
    "            y_train_pred = model.predict(X_train_selected)\n",
    "            y_val_pred = model.predict(X_val_selected)\n",
    "            \n",
    "            train_rmse = np.sqrt(mean_squared_error(y_train, y_train_pred))\n",
    "            val_rmse = np.sqrt(mean_squared_error(y_val, y_val_pred))\n",
    "            \n",
    "            mlflow.log_metric(\"train_rmse\", train_rmse)\n",
    "            mlflow.log_metric(\"val_rmse\", val_rmse)\n",
    "            mlflow.sklearn.log_model(model, model_name)"
   ]
  },
  {
   "cell_type": "code",
   "execution_count": null,
   "metadata": {},
   "outputs": [],
   "source": [
    "import xgboost as xgb\n",
    "\n",
    "from xgboost import XGBRegressor\n",
    "\n",
    "def train_xgboost_with_tuning(X_train, y_train, X_val, y_val):\n",
    "    param_grid = {\n",
    "        'n_estimators': [100, 200, 300],\n",
    "        'learning_rate': [0.01, 0.05, 0.1],\n",
    "        'max_depth': [3, 5, 7],\n",
    "        'min_child_weight': [1, 3, 5],\n",
    "        'subsample': [0.8, 0.9, 1.0],\n",
    "        'colsample_bytree': [0.8, 0.9, 1.0]\n",
    "    }\n",
    "    \n",
    "    xgb_model = XGBRegressor(random_state=42, objective='reg:squarederror')\n",
    "    \n",
    "    grid_search = GridSearchCV(\n",
    "        estimator=xgb_model,\n",
    "        param_grid=param_grid,\n",
    "        cv=5,\n",
    "        scoring='neg_mean_squared_error',\n",
    "        n_jobs=-1,\n",
    "        return_train_score=True,\n",
    "        verbose=1\n",
    "    )\n",
    "    \n",
    "    grid_search.fit(X_train, y_train)\n",
    "    \n",
    "    cv_results = pd.DataFrame(grid_search.cv_results_)\n",
    "    cv_results['rmse'] = np.sqrt(-cv_results['mean_test_score'])\n",
    "    cv_results = cv_results.sort_values('rmse')\n",
    "    \n",
    "    best_xgb = grid_search.best_estimator_\n",
    "    best_params = grid_search.best_params_\n",
    "    \n",
    "    y_train_pred = best_xgb.predict(X_train)\n",
    "    y_val_pred = best_xgb.predict(X_val)\n",
    "    \n",
    "    train_rmse = np.sqrt(mean_squared_error(y_train, y_train_pred))\n",
    "    val_rmse = np.sqrt(mean_squared_error(y_val, y_val_pred))\n",
    "    \n",
    "    return best_xgb, best_params, train_rmse, val_rmse, cv_results\n",
    "\n",
    "with mlflow.start_run(run_name=\"xgboost_tuning\"):\n",
    "    best_xgb, best_params, train_rmse, val_rmse, cv_results = train_xgboost_with_tuning(\n",
    "        X_train_train, y_train_train, X_val, y_val\n",
    "    )\n",
    "    \n",
    "    mlflow.log_param(\"model_type\", \"XGBRegressor\")\n",
    "    for param, value in best_params.items():\n",
    "        mlflow.log_param(param, value)\n",
    "    \n",
    "    mlflow.log_param(\"features\", list(X_train.columns))\n",
    "    mlflow.log_metric(\"train_rmse\", train_rmse)\n",
    "    mlflow.log_metric(\"val_rmse\", val_rmse)\n",
    "    \n",
    "    mlflow.sklearn.log_model(best_xgb, \"xgboost_model\")\n",
    "    joblib.dump(best_xgb, \"models/xgboost_best.pkl\")\n",
    "    \n",
    "    top_models = cv_results.head(3)\n",
    "    for i, (idx, row) in enumerate(top_models.iterrows()):\n",
    "        params = {\n",
    "            'n_estimators': row['param_n_estimators'],\n",
    "            'learning_rate': row['param_learning_rate'],\n",
    "            'max_depth': row['param_max_depth'],\n",
    "            'min_child_weight': row['param_min_child_weight'],\n",
    "            'subsample': row['param_subsample'],\n",
    "            'colsample_bytree': row['param_colsample_bytree'],\n",
    "            'random_state': 42,\n",
    "            'objective': 'reg:squarederror'\n",
    "        }\n",
    "        \n",
    "        model = XGBRegressor(**params)\n",
    "        model.fit(X_train_train, y_train_train)\n",
    "        \n",
    "        model_name = f\"xgb_top_{i+1}\"\n",
    "        model_path = f\"models/{model_name}.pkl\"\n",
    "        joblib.dump(model, model_path)\n",
    "        \n",
    "        with mlflow.start_run(nested=True, run_name=model_name):\n",
    "            for param_name, param_value in params.items():\n",
    "                mlflow.log_param(param_name, param_value)\n",
    "            \n",
    "            y_train_pred = model.predict(X_train_train)\n",
    "            y_val_pred = model.predict(X_val)\n",
    "            \n",
    "            train_rmse = np.sqrt(mean_squared_error(y_train_train, y_train_pred))\n",
    "            val_rmse = np.sqrt(mean_squared_error(y_val, y_val_pred))\n",
    "            \n",
    "            mlflow.log_metric(\"train_rmse\", train_rmse)\n",
    "            mlflow.log_metric(\"val_rmse\", val_rmse)\n",
    "            mlflow.sklearn.log_model(model, model_name)\n",
    "    \n",
    "    print(f\"Best parameters: {best_params}\")\n",
    "    print(f\"Training RMSE: {train_rmse:.4f}\")\n",
    "    print(f\"Validation RMSE: {val_rmse:.4f}\")\n",
    "    print(f\"Model saved to: models/xgboost_best.pkl\")\n",
    "    \n",
    "    with mlflow.start_run(nested=True, run_name=\"xgboost_feature_selection\"):\n",
    "        feature_importance = best_xgb.feature_importances_\n",
    "        importance_df = pd.DataFrame({\n",
    "            'feature': X_train.columns,\n",
    "            'importance': feature_importance\n",
    "        }).sort_values('importance', ascending=False)\n",
    "        \n",
    "        threshold = 0.05\n",
    "        important_features = importance_df[importance_df['importance'] > threshold]['feature'].tolist()\n",
    "        \n",
    "        for feature, importance in zip(importance_df['feature'], importance_df['importance']):\n",
    "            mlflow.log_metric(f\"importance_{feature}\", importance)\n",
    "        \n",
    "        print(f\"Selected features: {important_features}\")\n",
    "        \n",
    "        X_train_selected = X_train[important_features]\n",
    "        X_val_selected = X_val[important_features]\n",
    "        X_test_selected = X_test[important_features]\n",
    "        \n",
    "        param_grid = {\n",
    "            'n_estimators': [100, 200],\n",
    "            'learning_rate': [0.05, 0.1],\n",
    "            'max_depth': [3, 5],\n",
    "            'min_child_weight': [1, 3],\n",
    "            'subsample': [0.8, 1.0],\n",
    "            'colsample_bytree': [0.8, 1.0]\n",
    "        }\n",
    "        \n",
    "        xgb_selected = XGBRegressor(random_state=42, objective='reg:squarederror')\n",
    "        \n",
    "        grid_search_selected = GridSearchCV(\n",
    "            estimator=xgb_selected,\n",
    "            param_grid=param_grid,\n",
    "            cv=5,\n",
    "            scoring='neg_mean_squared_error',\n",
    "            n_jobs=-1,\n",
    "            return_train_score=True,\n",
    "            verbose=1\n",
    "        )\n",
    "        \n",
    "        grid_search_selected.fit(X_train_selected, y_train)\n",
    "        \n",
    "        cv_results_selected = pd.DataFrame(grid_search_selected.cv_results_)\n",
    "        cv_results_selected['rmse'] = np.sqrt(-cv_results_selected['mean_test_score'])\n",
    "        cv_results_selected = cv_results_selected.sort_values('rmse')\n",
    "        \n",
    "        best_xgb_selected = grid_search_selected.best_estimator_\n",
    "        best_params_selected = grid_search_selected.best_params_\n",
    "        \n",
    "        y_train_pred = best_xgb_selected.predict(X_train_selected)\n",
    "        y_val_pred = best_xgb_selected.predict(X_val_selected)\n",
    "        y_test_pred = best_xgb_selected.predict(X_test_selected)\n",
    "        \n",
    "        train_rmse_selected = np.sqrt(mean_squared_error(y_train, y_train_pred))\n",
    "        val_rmse_selected = np.sqrt(mean_squared_error(y_val, y_val_pred))\n",
    "        test_rmse_selected = np.sqrt(mean_squared_error(y_test, y_test_pred))\n",
    "        \n",
    "        mlflow.log_param(\"model_type\", \"XGBRegressor_FeatureSelection\")\n",
    "        for param, value in best_params_selected.items():\n",
    "            mlflow.log_param(param, value)\n",
    "        \n",
    "        mlflow.log_param(\"features\", important_features)\n",
    "        mlflow.log_param(\"feature_selection_threshold\", threshold)\n",
    "        mlflow.log_metric(\"train_rmse\", train_rmse_selected)\n",
    "        mlflow.log_metric(\"val_rmse\", val_rmse_selected)\n",
    "        mlflow.log_metric(\"test_rmse\", test_rmse_selected)\n",
    "        \n",
    "        model_path = \"models/xgboost_selected_features.pkl\"\n",
    "        joblib.dump(best_xgb_selected, model_path)\n",
    "        mlflow.sklearn.log_model(best_xgb_selected, \"xgboost_selected_features\")\n",
    "        \n",
    "        top_models_selected = cv_results_selected.head(3)\n",
    "        for i, (idx, row) in enumerate(top_models_selected.iterrows()):\n",
    "            params = {\n",
    "                'n_estimators': row['param_n_estimators'],\n",
    "                'learning_rate': row['param_learning_rate'],\n",
    "                'max_depth': row['param_max_depth'],\n",
    "                'min_child_weight': row['param_min_child_weight'],\n",
    "                'subsample': row['param_subsample'],\n",
    "                'colsample_bytree': row['param_colsample_bytree'],\n",
    "                'random_state': 42,\n",
    "                'objective': 'reg:squarederror'\n",
    "            }\n",
    "            \n",
    "            model = XGBRegressor(**params)\n",
    "            model.fit(X_train_selected, y_train)\n",
    "            \n",
    "            model_name = f\"xgb_selected_top_{i+1}\"\n",
    "            model_path = f\"models/{model_name}.pkl\"\n",
    "            joblib.dump(model, model_path)\n",
    "            \n",
    "            with mlflow.start_run(nested=True, run_name=model_name):\n",
    "                for param_name, param_value in params.items():\n",
    "                    mlflow.log_param(param_name, param_value)\n",
    "                \n",
    "                y_train_pred = model.predict(X_train_selected)\n",
    "                y_val_pred = model.predict(X_val_selected)\n",
    "                \n",
    "                train_rmse = np.sqrt(mean_squared_error(y_train, y_train_pred))\n",
    "                val_rmse = np.sqrt(mean_squared_error(y_val, y_val_pred))\n",
    "                \n",
    "                mlflow.log_metric(\"train_rmse\", train_rmse)\n",
    "                mlflow.log_metric(\"val_rmse\", val_rmse)\n",
    "                mlflow.sklearn.log_model(model, model_name)\n",
    "        \n",
    "        print(f\"Best parameters with selected features: {best_params_selected}\")\n",
    "        print(f\"Training RMSE with selected features: {train_rmse_selected:.4f}\")\n",
    "        print(f\"Validation RMSE with selected features: {val_rmse_selected:.4f}\")\n",
    "        print(f\"Test RMSE with selected features: {test_rmse_selected:.4f}\")\n",
    "        print(f\"Model saved to: {model_path}\")"
   ]
  },
  {
   "cell_type": "code",
   "execution_count": null,
   "metadata": {},
   "outputs": [],
   "source": []
  },
  {
   "cell_type": "markdown",
   "metadata": {},
   "source": [
    "# Best 3 models are rf_selected_top_3, random_forest_feature_selection and xgboost_feature_selection"
   ]
  },
  {
   "cell_type": "code",
   "execution_count": null,
   "metadata": {},
   "outputs": [],
   "source": [
    "import mlflow\n",
    "from mlflow.tracking import MlflowClient\n",
    "import numpy as np\n",
    "from sklearn.metrics import mean_squared_error\n",
    "\n",
    "client = MlflowClient()\n",
    "best_model_run_id = \"6e929804496046298e184fe61dd50c79\"\n",
    "model_uri = f\"runs:/{best_model_run_id}/rf_selected_top_3\"\n",
    "\n",
    "registered_model = mlflow.register_model(\n",
    "    model_uri=model_uri,\n",
    "    name=\"MovieRatingPredictor\"\n",
    ")\n",
    "\n",
    "client.transition_model_version_stage(\n",
    "    name=\"MovieRatingPredictor\",\n",
    "    version=registered_model.version,\n",
    "    stage=\"Staging\"\n",
    ")\n",
    "\n",
    "best_model = mlflow.sklearn.load_model(model_uri)\n",
    "\n",
    "parent_run_id = \"6e929804496046298e184fe61dd50c79\"  \n",
    "\n",
    "parent_run = client.get_run(parent_run_id)\n",
    "if \"features\" in parent_run.data.params:\n",
    "    feature_names = eval(parent_run.data.params[\"features\"])\n",
    "elif hasattr(best_model, 'feature_names_in_'):\n",
    "    feature_names = best_model.feature_names_in_.tolist()\n",
    "else:\n",
    "    feature_names = X_test.columns.tolist()\n",
    "\n",
    "X_test_for_model = X_test[feature_names].copy() if feature_names else X_test\n",
    "\n",
    "y_test_pred = best_model.predict(X_test_for_model)\n",
    "test_rmse = np.sqrt(mean_squared_error(y_test, y_test_pred))\n",
    "\n",
    "with mlflow.start_run(run_id=best_model_run_id):\n",
    "    mlflow.log_metric(\"test_rmse\", test_rmse)\n",
    "\n",
    "print(f\"Model registered as 'MovieRatingPredictor' version {registered_model.version} and staged to 'Staging'\")\n",
    "print(f\"Test RMSE: {test_rmse:.4f}\")"
   ]
  },
  {
   "cell_type": "code",
   "execution_count": null,
   "metadata": {},
   "outputs": [],
   "source": []
  },
  {
   "cell_type": "code",
   "execution_count": null,
   "metadata": {},
   "outputs": [],
   "source": [
    "top_model_run_ids = [\n",
    "    \"6e929804496046298e184fe61dd50c79\",\n",
    "    \"87591dc44865488d84689f0e723d5f19\",\n",
    "    \"702ae8f0968f4c30ad189d3212ad1af6\"\n",
    "]\n",
    "\n",
    "for run_id in top_model_run_ids:\n",
    "    with mlflow.start_run(run_id=run_id, nested=True):\n",
    "        mlflow.log_param(\"train_dataset_shape\", str(X_train.shape))\n",
    "        mlflow.log_param(\"val_dataset_shape\", str(X_val.shape))\n",
    "        mlflow.log_param(\"test_dataset_shape\", str(X_test.shape))\n",
    "        \n",
    "        mlflow.log_param(\"train_features\", str(list(X_train.columns)))\n",
    "        if 'selected' in run_id or 'feature_selection' in run_id:\n",
    "            mlflow.log_param(\"selected_features\", str(list(X_train_selected.columns)))\n",
    "        \n",
    "        mlflow.log_param(\"X_train_min\", str(X_train.min().to_dict()))\n",
    "        mlflow.log_param(\"X_train_max\", str(X_train.max().to_dict()))\n",
    "        mlflow.log_param(\"X_train_mean\", str(X_train.mean().to_dict()))\n",
    "        \n",
    "        mlflow.log_param(\"y_train_min\", float(y_train.min()))\n",
    "        mlflow.log_param(\"y_train_max\", float(y_train.max()))\n",
    "        mlflow.log_param(\"y_train_mean\", float(y_train.mean()))\n",
    "        \n",
    "        print(f\"Logged dataset information for run {run_id}\")"
   ]
  },
  {
   "cell_type": "code",
   "execution_count": null,
   "metadata": {},
   "outputs": [],
   "source": []
  },
  {
   "cell_type": "code",
   "execution_count": null,
   "metadata": {},
   "outputs": [],
   "source": []
  }
 ],
 "metadata": {
  "kernelspec": {
   "display_name": "mmlops",
   "language": "python",
   "name": "python3"
  },
  "language_info": {
   "codemirror_mode": {
    "name": "ipython",
    "version": 3
   },
   "file_extension": ".py",
   "mimetype": "text/x-python",
   "name": "python",
   "nbconvert_exporter": "python",
   "pygments_lexer": "ipython3",
   "version": "3.12.9"
  }
 },
 "nbformat": 4,
 "nbformat_minor": 2
}
